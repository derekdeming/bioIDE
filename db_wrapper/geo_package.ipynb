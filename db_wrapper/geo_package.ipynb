{
 "cells": [
  {
   "cell_type": "code",
   "execution_count": 1,
   "metadata": {},
   "outputs": [
    {
     "name": "stdout",
     "output_type": "stream",
     "text": [
      "Defaulting to user installation because normal site-packages is not writeable\n",
      "Collecting Bio\n",
      "  Downloading bio-1.5.9-py3-none-any.whl (276 kB)\n",
      "                                              0.0/276.4 kB ? eta -:--:--\n",
      "     -------------------------------------- 276.4/276.4 kB 5.7 MB/s eta 0:00:00\n",
      "Collecting biopython>=1.80 (from Bio)\n",
      "  Downloading biopython-1.81-cp39-cp39-win_amd64.whl (2.7 MB)\n",
      "                                              0.0/2.7 MB ? eta -:--:--\n",
      "     --------------------------               1.8/2.7 MB 37.5 MB/s eta 0:00:01\n",
      "     ---------------------------------------  2.7/2.7 MB 34.7 MB/s eta 0:00:01\n",
      "     ---------------------------------------- 2.7/2.7 MB 28.8 MB/s eta 0:00:00\n",
      "Requirement already satisfied: requests in c:\\users\\derek\\appdata\\roaming\\python\\python39\\site-packages (from Bio) (2.31.0)\n",
      "Requirement already satisfied: tqdm in c:\\users\\derek\\appdata\\roaming\\python\\python39\\site-packages (from Bio) (4.65.0)\n",
      "Collecting mygene (from Bio)\n",
      "  Downloading mygene-3.2.2-py2.py3-none-any.whl (5.4 kB)\n",
      "Requirement already satisfied: pandas in c:\\users\\derek\\appdata\\roaming\\python\\python39\\site-packages (from Bio) (1.5.3)\n",
      "Collecting pooch (from Bio)\n",
      "  Downloading pooch-1.7.0-py3-none-any.whl (60 kB)\n",
      "                                              0.0/60.9 kB ? eta -:--:--\n",
      "     ---------------------------------------- 60.9/60.9 kB ? eta 0:00:00\n",
      "Collecting gprofiler-official (from Bio)\n",
      "  Downloading gprofiler_official-1.0.0-py3-none-any.whl (9.3 kB)\n",
      "Requirement already satisfied: numpy in c:\\users\\derek\\appdata\\roaming\\python\\python39\\site-packages (from biopython>=1.80->Bio) (1.23.5)\n",
      "Collecting biothings-client>=0.2.6 (from mygene->Bio)\n",
      "  Downloading biothings_client-0.3.0-py2.py3-none-any.whl (29 kB)\n",
      "Requirement already satisfied: python-dateutil>=2.8.1 in c:\\users\\derek\\appdata\\roaming\\python\\python39\\site-packages (from pandas->Bio) (2.8.2)\n",
      "Requirement already satisfied: pytz>=2020.1 in c:\\users\\derek\\appdata\\roaming\\python\\python39\\site-packages (from pandas->Bio) (2023.3)\n",
      "Requirement already satisfied: platformdirs>=2.5.0 in c:\\users\\derek\\appdata\\roaming\\python\\python39\\site-packages (from pooch->Bio) (3.5.1)\n",
      "Requirement already satisfied: packaging>=20.0 in c:\\users\\derek\\appdata\\roaming\\python\\python39\\site-packages (from pooch->Bio) (23.1)\n",
      "Requirement already satisfied: charset-normalizer<4,>=2 in c:\\users\\derek\\appdata\\roaming\\python\\python39\\site-packages (from requests->Bio) (3.1.0)\n",
      "Requirement already satisfied: idna<4,>=2.5 in c:\\users\\derek\\appdata\\roaming\\python\\python39\\site-packages (from requests->Bio) (3.4)\n",
      "Requirement already satisfied: urllib3<3,>=1.21.1 in c:\\users\\derek\\appdata\\roaming\\python\\python39\\site-packages (from requests->Bio) (2.0.2)\n",
      "Requirement already satisfied: certifi>=2017.4.17 in c:\\users\\derek\\appdata\\roaming\\python\\python39\\site-packages (from requests->Bio) (2023.5.7)\n",
      "Requirement already satisfied: colorama in c:\\users\\derek\\appdata\\roaming\\python\\python39\\site-packages (from tqdm->Bio) (0.4.6)\n",
      "Requirement already satisfied: six>=1.5 in c:\\users\\derek\\appdata\\roaming\\python\\python39\\site-packages (from python-dateutil>=2.8.1->pandas->Bio) (1.16.0)\n",
      "Installing collected packages: biopython, pooch, gprofiler-official, biothings-client, mygene, Bio\n",
      "Successfully installed Bio-1.5.9 biopython-1.81 biothings-client-0.3.0 gprofiler-official-1.0.0 mygene-3.2.2 pooch-1.7.0\n"
     ]
    }
   ],
   "source": [
    "!pip install Bio "
   ]
  },
  {
   "cell_type": "code",
   "execution_count": 2,
   "metadata": {},
   "outputs": [
    {
     "name": "stdout",
     "output_type": "stream",
     "text": [
      "Defaulting to user installation because normal site-packages is not writeable\n",
      "Collecting Geoparse\n",
      "  Downloading GEOparse-2.0.3.tar.gz (278 kB)\n",
      "                                              0.0/278.5 kB ? eta -:--:--\n",
      "     -------------------------------------- 278.5/278.5 kB 5.7 MB/s eta 0:00:00\n",
      "  Preparing metadata (setup.py): started\n",
      "  Preparing metadata (setup.py): finished with status 'done'\n",
      "Requirement already satisfied: numpy>=1.7 in c:\\users\\derek\\appdata\\roaming\\python\\python39\\site-packages (from Geoparse) (1.23.5)\n",
      "Requirement already satisfied: pandas>=0.17 in c:\\users\\derek\\appdata\\roaming\\python\\python39\\site-packages (from Geoparse) (1.5.3)\n",
      "Requirement already satisfied: requests>=2.21.0 in c:\\users\\derek\\appdata\\roaming\\python\\python39\\site-packages (from Geoparse) (2.31.0)\n",
      "Requirement already satisfied: tqdm>=4.31.1 in c:\\users\\derek\\appdata\\roaming\\python\\python39\\site-packages (from Geoparse) (4.65.0)\n",
      "Requirement already satisfied: python-dateutil>=2.8.1 in c:\\users\\derek\\appdata\\roaming\\python\\python39\\site-packages (from pandas>=0.17->Geoparse) (2.8.2)\n",
      "Requirement already satisfied: pytz>=2020.1 in c:\\users\\derek\\appdata\\roaming\\python\\python39\\site-packages (from pandas>=0.17->Geoparse) (2023.3)\n",
      "Requirement already satisfied: charset-normalizer<4,>=2 in c:\\users\\derek\\appdata\\roaming\\python\\python39\\site-packages (from requests>=2.21.0->Geoparse) (3.1.0)\n",
      "Requirement already satisfied: idna<4,>=2.5 in c:\\users\\derek\\appdata\\roaming\\python\\python39\\site-packages (from requests>=2.21.0->Geoparse) (3.4)\n",
      "Requirement already satisfied: urllib3<3,>=1.21.1 in c:\\users\\derek\\appdata\\roaming\\python\\python39\\site-packages (from requests>=2.21.0->Geoparse) (2.0.2)\n",
      "Requirement already satisfied: certifi>=2017.4.17 in c:\\users\\derek\\appdata\\roaming\\python\\python39\\site-packages (from requests>=2.21.0->Geoparse) (2023.5.7)\n",
      "Requirement already satisfied: colorama in c:\\users\\derek\\appdata\\roaming\\python\\python39\\site-packages (from tqdm>=4.31.1->Geoparse) (0.4.6)\n",
      "Requirement already satisfied: six>=1.5 in c:\\users\\derek\\appdata\\roaming\\python\\python39\\site-packages (from python-dateutil>=2.8.1->pandas>=0.17->Geoparse) (1.16.0)\n",
      "Building wheels for collected packages: Geoparse\n",
      "  Building wheel for Geoparse (setup.py): started\n",
      "  Building wheel for Geoparse (setup.py): finished with status 'done'\n",
      "  Created wheel for Geoparse: filename=GEOparse-2.0.3-py3-none-any.whl size=29104 sha256=06d6d566cf84591fd0a3bfdad49740a8bbba46f07ec322c9acbb4eefeee65765\n",
      "  Stored in directory: c:\\users\\derek\\appdata\\local\\pip\\cache\\wheels\\b4\\27\\3b\\3faf8423d9c4fad02d693b4d75d1b6e82fde1d5cf59cc9a40e\n",
      "Successfully built Geoparse\n",
      "Installing collected packages: Geoparse\n",
      "Successfully installed Geoparse-2.0.3\n"
     ]
    }
   ],
   "source": [
    "!pip install Geoparse"
   ]
  },
  {
   "cell_type": "code",
   "execution_count": 3,
   "metadata": {},
   "outputs": [],
   "source": [
    "from Bio import Entrez, SeqIO\n",
    "import GEOparse as gp\n",
    "import pandas as pd\n",
    "\n"
   ]
  },
  {
   "cell_type": "code",
   "execution_count": 4,
   "metadata": {},
   "outputs": [],
   "source": [
    "Entrez.email = 'derekdeming17@gmail.com'"
   ]
  },
  {
   "cell_type": "code",
   "execution_count": 7,
   "metadata": {},
   "outputs": [
    {
     "data": {
      "text/plain": [
       "{'DbList': ['pubmed', 'protein', 'nuccore', 'ipg', 'nucleotide', 'structure', 'genome', 'annotinfo', 'assembly', 'bioproject', 'biosample', 'blastdbinfo', 'books', 'cdd', 'clinvar', 'gap', 'gapplus', 'grasp', 'dbvar', 'gene', 'gds', 'geoprofiles', 'homologene', 'medgen', 'mesh', 'nlmcatalog', 'omim', 'orgtrack', 'pmc', 'popset', 'proteinclusters', 'pcassay', 'protfam', 'pccompound', 'pcsubstance', 'seqannot', 'snp', 'sra', 'taxonomy', 'biocollections', 'gtr']}"
      ]
     },
     "execution_count": 7,
     "metadata": {},
     "output_type": "execute_result"
    }
   ],
   "source": [
    "#entrez.read() call directly parses XML into a python object, has only one key\n",
    "# 'DbList' which is a list of all the databases available through Entrez\n",
    "\n",
    "direct_access=Entrez.read(Entrez.einfo())\n",
    "direct_access"
   ]
  },
  {
   "cell_type": "code",
   "execution_count": 41,
   "metadata": {},
   "outputs": [
    {
     "name": "stdout",
     "output_type": "stream",
     "text": [
      "{'DbInfo': {'DbName': 'pubmed', 'MenuName': 'PubMed', 'Description': 'PubMed bibliographic record', 'DbBuild': 'Build-2023.07.04.20.13', 'Count': '35902794', 'LastUpdate': '2023/07/04 20:13', 'FieldList': [{'Name': 'ALL', 'FullName': 'All Fields', 'Description': 'All terms from all searchable fields', 'TermCount': '', 'IsDate': 'N', 'IsNumerical': 'N', 'SingleToken': 'N', 'Hierarchy': 'N', 'IsHidden': 'N'}, {'Name': 'UID', 'FullName': 'UID', 'Description': 'Unique number assigned to publication', 'TermCount': '', 'IsDate': 'N', 'IsNumerical': 'Y', 'SingleToken': 'Y', 'Hierarchy': 'N', 'IsHidden': 'Y'}, {'Name': 'FILT', 'FullName': 'Filter', 'Description': 'Limits the records', 'TermCount': '', 'IsDate': 'N', 'IsNumerical': 'N', 'SingleToken': 'Y', 'Hierarchy': 'N', 'IsHidden': 'N'}, {'Name': 'TITL', 'FullName': 'Title', 'Description': 'Words in title of publication', 'TermCount': '', 'IsDate': 'N', 'IsNumerical': 'N', 'SingleToken': 'N', 'Hierarchy': 'N', 'IsHidden': 'N'}, {'Name': 'MESH', 'FullName': 'MeSH Terms', 'Description': 'Medical Subject Headings assigned to publication', 'TermCount': '', 'IsDate': 'N', 'IsNumerical': 'N', 'SingleToken': 'Y', 'Hierarchy': 'Y', 'IsHidden': 'N'}, {'Name': 'MAJR', 'FullName': 'MeSH Major Topic', 'Description': 'MeSH terms of major importance to publication', 'TermCount': '', 'IsDate': 'N', 'IsNumerical': 'N', 'SingleToken': 'Y', 'Hierarchy': 'Y', 'IsHidden': 'N'}, {'Name': 'JOUR', 'FullName': 'Journal', 'Description': 'Journal abbreviation of publication', 'TermCount': '', 'IsDate': 'N', 'IsNumerical': 'N', 'SingleToken': 'Y', 'Hierarchy': 'N', 'IsHidden': 'N'}, {'Name': 'AFFL', 'FullName': 'Affiliation', 'Description': \"Author's institutional affiliation and address\", 'TermCount': '', 'IsDate': 'N', 'IsNumerical': 'N', 'SingleToken': 'N', 'Hierarchy': 'N', 'IsHidden': 'N'}, {'Name': 'ECNO', 'FullName': 'EC/RN Number', 'Description': 'EC number for enzyme or CAS registry number', 'TermCount': '', 'IsDate': 'N', 'IsNumerical': 'N', 'SingleToken': 'Y', 'Hierarchy': 'N', 'IsHidden': 'N'}, {'Name': 'SUBS', 'FullName': 'Supplementary Concept', 'Description': 'CAS chemical name or MEDLINE Substance Name', 'TermCount': '', 'IsDate': 'N', 'IsNumerical': 'N', 'SingleToken': 'Y', 'Hierarchy': 'N', 'IsHidden': 'N'}, {'Name': 'PDAT', 'FullName': 'Date - Publication', 'Description': 'Date of publication', 'TermCount': '', 'IsDate': 'Y', 'IsNumerical': 'N', 'SingleToken': 'Y', 'Hierarchy': 'N', 'IsHidden': 'N'}, {'Name': 'EDAT', 'FullName': 'Date - Entry', 'Description': 'Date publication first accessible through Entrez', 'TermCount': '', 'IsDate': 'Y', 'IsNumerical': 'N', 'SingleToken': 'Y', 'Hierarchy': 'N', 'IsHidden': 'N'}, {'Name': 'VOL', 'FullName': 'Volume', 'Description': 'Volume number of publication', 'TermCount': '', 'IsDate': 'N', 'IsNumerical': 'N', 'SingleToken': 'Y', 'Hierarchy': 'N', 'IsHidden': 'N'}, {'Name': 'PAGE', 'FullName': 'Pagination', 'Description': 'Page number(s) of publication', 'TermCount': '', 'IsDate': 'N', 'IsNumerical': 'N', 'SingleToken': 'Y', 'Hierarchy': 'N', 'IsHidden': 'N'}, {'Name': 'PTYP', 'FullName': 'Publication Type', 'Description': 'Type of publication (e.g., review)', 'TermCount': '', 'IsDate': 'N', 'IsNumerical': 'N', 'SingleToken': 'Y', 'Hierarchy': 'Y', 'IsHidden': 'N'}, {'Name': 'LANG', 'FullName': 'Language', 'Description': 'Language of publication', 'TermCount': '', 'IsDate': 'N', 'IsNumerical': 'N', 'SingleToken': 'Y', 'Hierarchy': 'N', 'IsHidden': 'N'}, {'Name': 'ISS', 'FullName': 'Issue', 'Description': 'Issue number of publication', 'TermCount': '', 'IsDate': 'N', 'IsNumerical': 'N', 'SingleToken': 'Y', 'Hierarchy': 'N', 'IsHidden': 'N'}, {'Name': 'SUBH', 'FullName': 'MeSH Subheading', 'Description': 'Additional specificity for MeSH term', 'TermCount': '', 'IsDate': 'N', 'IsNumerical': 'N', 'SingleToken': 'Y', 'Hierarchy': 'Y', 'IsHidden': 'N'}, {'Name': 'SI', 'FullName': 'Secondary Source ID', 'Description': 'Cross-reference from publication to other databases', 'TermCount': '', 'IsDate': 'N', 'IsNumerical': 'N', 'SingleToken': 'Y', 'Hierarchy': 'N', 'IsHidden': 'N'}, {'Name': 'MHDA', 'FullName': 'Date - MeSH', 'Description': 'Date publication was indexed with MeSH terms', 'TermCount': '', 'IsDate': 'Y', 'IsNumerical': 'N', 'SingleToken': 'Y', 'Hierarchy': 'N', 'IsHidden': 'N'}, {'Name': 'TIAB', 'FullName': 'Title/Abstract', 'Description': 'Free text associated with Abstract/Title', 'TermCount': '', 'IsDate': 'N', 'IsNumerical': 'N', 'SingleToken': 'N', 'Hierarchy': 'N', 'IsHidden': 'N'}, {'Name': 'OTRM', 'FullName': 'Other Term', 'Description': 'Other terms associated with publication', 'TermCount': '', 'IsDate': 'N', 'IsNumerical': 'N', 'SingleToken': 'N', 'Hierarchy': 'N', 'IsHidden': 'N'}, {'Name': 'COLN', 'FullName': 'Author - Corporate', 'Description': 'Corporate Author of publication', 'TermCount': '', 'IsDate': 'N', 'IsNumerical': 'N', 'SingleToken': 'N', 'Hierarchy': 'N', 'IsHidden': 'N'}, {'Name': 'CNTY', 'FullName': 'Place of Publication', 'Description': 'Country of publication', 'TermCount': '', 'IsDate': 'N', 'IsNumerical': 'N', 'SingleToken': 'N', 'Hierarchy': 'N', 'IsHidden': 'Y'}, {'Name': 'PAPX', 'FullName': 'Pharmacological Action', 'Description': 'MeSH pharmacological action pre-explosions', 'TermCount': '', 'IsDate': 'N', 'IsNumerical': 'N', 'SingleToken': 'Y', 'Hierarchy': 'N', 'IsHidden': 'N'}, {'Name': 'GRNT', 'FullName': 'Grant Number', 'Description': 'NIH Grant Numbers', 'TermCount': '', 'IsDate': 'N', 'IsNumerical': 'N', 'SingleToken': 'Y', 'Hierarchy': 'N', 'IsHidden': 'N'}, {'Name': 'MDAT', 'FullName': 'Date - Modification', 'Description': 'Date of last modification', 'TermCount': '', 'IsDate': 'Y', 'IsNumerical': 'N', 'SingleToken': 'Y', 'Hierarchy': 'N', 'IsHidden': 'N'}, {'Name': 'CDAT', 'FullName': 'Date - Completion', 'Description': 'Date of completion', 'TermCount': '', 'IsDate': 'Y', 'IsNumerical': 'N', 'SingleToken': 'Y', 'Hierarchy': 'N', 'IsHidden': 'N'}, {'Name': 'PID', 'FullName': 'Publisher ID', 'Description': 'Publisher ID', 'TermCount': '', 'IsDate': 'N', 'IsNumerical': 'N', 'SingleToken': 'Y', 'Hierarchy': 'N', 'IsHidden': 'Y'}, {'Name': 'FAUT', 'FullName': 'Author - First', 'Description': 'First Author of publication', 'TermCount': '', 'IsDate': 'N', 'IsNumerical': 'N', 'SingleToken': 'Y', 'Hierarchy': 'N', 'IsHidden': 'N'}, {'Name': 'FULL', 'FullName': 'Author', 'Description': 'Full Author Name(s) of publication', 'TermCount': '', 'IsDate': 'N', 'IsNumerical': 'N', 'SingleToken': 'Y', 'Hierarchy': 'N', 'IsHidden': 'N'}, {'Name': 'FINV', 'FullName': 'Investigator', 'Description': 'Full name of investigator', 'TermCount': '', 'IsDate': 'N', 'IsNumerical': 'N', 'SingleToken': 'Y', 'Hierarchy': 'N', 'IsHidden': 'N'}, {'Name': 'TT', 'FullName': 'Transliterated Title', 'Description': 'Words in transliterated title of publication', 'TermCount': '', 'IsDate': 'N', 'IsNumerical': 'N', 'SingleToken': 'N', 'Hierarchy': 'N', 'IsHidden': 'N'}, {'Name': 'LAUT', 'FullName': 'Author - Last', 'Description': 'Last Author of publication', 'TermCount': '', 'IsDate': 'N', 'IsNumerical': 'N', 'SingleToken': 'Y', 'Hierarchy': 'N', 'IsHidden': 'N'}, {'Name': 'PPDT', 'FullName': 'Print Publication Date', 'Description': 'Date of print publication', 'TermCount': '', 'IsDate': 'Y', 'IsNumerical': 'N', 'SingleToken': 'Y', 'Hierarchy': 'N', 'IsHidden': 'Y'}, {'Name': 'EPDT', 'FullName': 'Electronic Publication Date', 'Description': 'Date of Electronic publication', 'TermCount': '', 'IsDate': 'Y', 'IsNumerical': 'N', 'SingleToken': 'Y', 'Hierarchy': 'N', 'IsHidden': 'Y'}, {'Name': 'LID', 'FullName': 'Location ID', 'Description': 'ELocation ID', 'TermCount': '', 'IsDate': 'N', 'IsNumerical': 'N', 'SingleToken': 'Y', 'Hierarchy': 'N', 'IsHidden': 'N'}, {'Name': 'CRDT', 'FullName': 'Date - Create', 'Description': 'Date publication first accessible through Entrez', 'TermCount': '', 'IsDate': 'Y', 'IsNumerical': 'N', 'SingleToken': 'Y', 'Hierarchy': 'N', 'IsHidden': 'N'}, {'Name': 'BOOK', 'FullName': 'Book', 'Description': 'ID of the book that contains the document', 'TermCount': '', 'IsDate': 'N', 'IsNumerical': 'N', 'SingleToken': 'Y', 'Hierarchy': 'N', 'IsHidden': 'N'}, {'Name': 'ED', 'FullName': 'Editor', 'Description': \"Section's Editor\", 'TermCount': '', 'IsDate': 'N', 'IsNumerical': 'N', 'SingleToken': 'Y', 'Hierarchy': 'N', 'IsHidden': 'N'}, {'Name': 'ISBN', 'FullName': 'ISBN', 'Description': 'ISBN', 'TermCount': '', 'IsDate': 'N', 'IsNumerical': 'N', 'SingleToken': 'Y', 'Hierarchy': 'N', 'IsHidden': 'N'}, {'Name': 'PUBN', 'FullName': 'Publisher', 'Description': \"Publisher's name\", 'TermCount': '', 'IsDate': 'N', 'IsNumerical': 'N', 'SingleToken': 'Y', 'Hierarchy': 'N', 'IsHidden': 'N'}, {'Name': 'AUCL', 'FullName': 'Author Cluster ID', 'Description': 'Author Cluster ID', 'TermCount': '', 'IsDate': 'N', 'IsNumerical': 'N', 'SingleToken': 'Y', 'Hierarchy': 'N', 'IsHidden': 'Y'}, {'Name': 'EID', 'FullName': 'Extended PMID', 'Description': 'Extended PMID', 'TermCount': '', 'IsDate': 'N', 'IsNumerical': 'N', 'SingleToken': 'Y', 'Hierarchy': 'N', 'IsHidden': 'Y'}, {'Name': 'DSO', 'FullName': 'DSO', 'Description': 'Additional text from the summary', 'TermCount': '', 'IsDate': 'N', 'IsNumerical': 'N', 'SingleToken': 'N', 'Hierarchy': 'N', 'IsHidden': 'Y'}, {'Name': 'AUID', 'FullName': 'Author - Identifier', 'Description': 'Author Identifier', 'TermCount': '', 'IsDate': 'N', 'IsNumerical': 'N', 'SingleToken': 'Y', 'Hierarchy': 'N', 'IsHidden': 'N'}, {'Name': 'PS', 'FullName': 'Subject - Personal Name', 'Description': 'Personal Name as Subject', 'TermCount': '', 'IsDate': 'N', 'IsNumerical': 'N', 'SingleToken': 'Y', 'Hierarchy': 'N', 'IsHidden': 'N'}, {'Name': 'COIS', 'FullName': 'Conflict of Interest Statements', 'Description': 'Conflict of Interest Statements', 'TermCount': '', 'IsDate': 'N', 'IsNumerical': 'N', 'SingleToken': 'N', 'Hierarchy': 'N', 'IsHidden': 'N'}, {'Name': 'WORD', 'FullName': 'Text Word', 'Description': 'Free text associated with publication', 'TermCount': '', 'IsDate': 'N', 'IsNumerical': 'N', 'SingleToken': 'N', 'Hierarchy': 'N', 'IsHidden': 'N'}, {'Name': 'P1DAT', 'FullName': 'P1DAT', 'Description': 'Date publication first accessible through Solr', 'TermCount': '', 'IsDate': 'Y', 'IsNumerical': 'N', 'SingleToken': 'Y', 'Hierarchy': 'N', 'IsHidden': 'Y'}], 'LinkList': [{'Name': 'pubmed_assembly', 'Menu': 'Assembly', 'Description': 'Assembly', 'DbTo': 'assembly'}, {'Name': 'pubmed_bioproject', 'Menu': 'Project Links', 'Description': 'Related Projects', 'DbTo': 'bioproject'}, {'Name': 'pubmed_biosample', 'Menu': 'BioSample Links', 'Description': 'BioSample links', 'DbTo': 'biosample'}, {'Name': 'pubmed_biosystems', 'Menu': 'BioSystem Links', 'Description': 'BioSystems', 'DbTo': 'biosystems'}, {'Name': 'pubmed_books_refs', 'Menu': 'Cited in Books', 'Description': 'PubMed links associated with Books', 'DbTo': 'books'}, {'Name': 'pubmed_cdd', 'Menu': 'Conserved Domain Links', 'Description': 'Link to related CDD entry', 'DbTo': 'cdd'}, {'Name': 'pubmed_clinvar', 'Menu': 'ClinVar', 'Description': 'Clinical variations associated with publication', 'DbTo': 'clinvar'}, {'Name': 'pubmed_clinvar_calculated', 'Menu': 'ClinVar (calculated)', 'Description': 'Clinical variations calculated to be associated with publication', 'DbTo': 'clinvar'}, {'Name': 'pubmed_dbvar', 'Menu': 'dbVar', 'Description': 'Link from PubMed to dbVar', 'DbTo': 'dbvar'}, {'Name': 'pubmed_gap', 'Menu': 'dbGaP Links', 'Description': 'Related dbGaP record', 'DbTo': 'gap'}, {'Name': 'pubmed_gds', 'Menu': 'GEO DataSet Links', 'Description': 'Related GEO DataSets', 'DbTo': 'gds'}, {'Name': 'pubmed_gene', 'Menu': 'Gene Links', 'Description': 'Link to related Genes', 'DbTo': 'gene'}, {'Name': 'pubmed_gene_bookrecords', 'Menu': 'Gene (from Bookshelf)', 'Description': 'Gene records in this citation', 'DbTo': 'gene'}, {'Name': 'pubmed_gene_citedinomim', 'Menu': 'Gene (OMIM) Links', 'Description': 'PubMed links to Gene derived from pubmed_omim_cited links', 'DbTo': 'gene'}, {'Name': 'pubmed_gene_pmc_nucleotide', 'Menu': 'Gene (nucleotide/PMC)', 'Description': 'Records in Gene identified from shared sequence and PMC links.', 'DbTo': 'gene'}, {'Name': 'pubmed_gene_rif', 'Menu': 'Gene (GeneRIF) Links', 'Description': 'Link to Gene for the GeneRIF subcategory', 'DbTo': 'gene'}, {'Name': 'pubmed_genome', 'Menu': 'Genome Links', 'Description': 'Published genome sequences', 'DbTo': 'genome'}, {'Name': 'pubmed_geoprofiles', 'Menu': 'GEO Profile Links', 'Description': 'GEO records associated with pubmed record', 'DbTo': 'geoprofiles'}, {'Name': 'pubmed_homologene', 'Menu': 'HomoloGene Links', 'Description': 'Related HomoloGene', 'DbTo': 'homologene'}, {'Name': 'pubmed_medgen', 'Menu': 'MedGen', 'Description': 'Related information in MedGen', 'DbTo': 'medgen'}, {'Name': 'pubmed_medgen_bookshelf_cited', 'Menu': 'MedGen (Bookshelf cited)', 'Description': 'Related records in MedGen based on citations in GeneReviews and Medical Genetics Summaries', 'DbTo': 'medgen'}, {'Name': 'pubmed_medgen_genereviews', 'Menu': 'MedGen (GeneReviews)', 'Description': 'Related MedGen records', 'DbTo': 'medgen'}, {'Name': 'pubmed_medgen_omim', 'Menu': 'MedGen (OMIM)', 'Description': 'Related information in MedGen (OMIM)', 'DbTo': 'medgen'}, {'Name': 'pubmed_nuccore', 'Menu': 'Nucleotide Links', 'Description': 'Published Nucleotide sequences', 'DbTo': 'nuccore'}, {'Name': 'pubmed_nuccore_refseq', 'Menu': 'Nucleotide (RefSeq) Links', 'Description': 'Link to Nucleotide RefSeqs', 'DbTo': 'nuccore'}, {'Name': 'pubmed_nuccore_weighted', 'Menu': 'Nucleotide (Weighted) Links', 'Description': 'Links to nuccore', 'DbTo': 'nuccore'}, {'Name': 'pubmed_omim_bookrecords', 'Menu': 'OMIM (from Bookshelf)', 'Description': 'OMIM records in this citation', 'DbTo': 'omim'}, {'Name': 'pubmed_omim_calculated', 'Menu': 'OMIM (calculated) Links', 'Description': 'OMIM (calculated) Links', 'DbTo': 'omim'}, {'Name': 'pubmed_omim_cited', 'Menu': 'OMIM (cited) Links', 'Description': 'OMIM (cited) Links', 'DbTo': 'omim'}, {'Name': 'pubmed_pcassay', 'Menu': 'PubChem BioAssay', 'Description': 'Related PubChem BioAssay', 'DbTo': 'pcassay'}, {'Name': 'pubmed_pccompound', 'Menu': 'PubChem Compound', 'Description': 'Related PubChem Compound', 'DbTo': 'pccompound'}, {'Name': 'pubmed_pccompound_mesh', 'Menu': 'PubChem Compound (MeSH Keyword)', 'Description': 'Related PubChem Compound via MeSH', 'DbTo': 'pccompound'}, {'Name': 'pubmed_pccompound_publisher', 'Menu': 'PubChem Compound (Publisher)', 'Description': 'Publisher deposited structures linked to PubChem Compound', 'DbTo': 'pccompound'}, {'Name': 'pubmed_pcsubstance', 'Menu': 'PubChem Substance Links', 'Description': 'Related PubChem Substance', 'DbTo': 'pcsubstance'}, {'Name': 'pubmed_pcsubstance_bookrecords', 'Menu': 'PubChem Substance (from Bookshelf)', 'Description': 'Structures in the PubChem Substance database in this citation', 'DbTo': 'pcsubstance'}, {'Name': 'pubmed_pcsubstance_publisher', 'Menu': 'PubChem Substance (Publisher)', 'Description': 'PubChem Substances supplied by publisher', 'DbTo': 'pcsubstance'}, {'Name': 'pubmed_pmc', 'Menu': 'PMC Links', 'Description': 'Free full text articles in PMC', 'DbTo': 'pmc'}, {'Name': 'pubmed_pmc_bookrecords', 'Menu': 'References in PMC for this Bookshelf citation', 'Description': 'Full text of articles in PubMed Central cited in this record', 'DbTo': 'pmc'}, {'Name': 'pubmed_pmc_embargo', 'Menu': '', 'Description': 'Embargoed PMC article associated with PubMed', 'DbTo': 'pmc'}, {'Name': 'pubmed_pmc_local', 'Menu': '', 'Description': 'Free full text articles in PMC', 'DbTo': 'pmc'}, {'Name': 'pubmed_pmc_refs', 'Menu': 'Cited in PMC', 'Description': 'PubMed links associated with PMC', 'DbTo': 'pmc'}, {'Name': 'pubmed_popset', 'Menu': 'PopSet Links', 'Description': 'Published population set', 'DbTo': 'popset'}, {'Name': 'pubmed_probe', 'Menu': 'Probe Links', 'Description': 'Related Probe entry', 'DbTo': 'probe'}, {'Name': 'pubmed_protein', 'Menu': 'Protein Links', 'Description': 'Published protein sequences', 'DbTo': 'protein'}, {'Name': 'pubmed_protein_refseq', 'Menu': 'Protein (RefSeq) Links', 'Description': 'Link to Protein RefSeqs', 'DbTo': 'protein'}, {'Name': 'pubmed_protein_weighted', 'Menu': 'Protein (Weighted) Links', 'Description': 'Links to protein', 'DbTo': 'protein'}, {'Name': 'pubmed_proteinclusters', 'Menu': 'Protein Cluster Links', 'Description': 'Related Protein Clusters', 'DbTo': 'proteinclusters'}, {'Name': 'pubmed_protfam', 'Menu': 'Protein Family Models', 'Description': 'Protein family models supported by a particular publication', 'DbTo': 'protfam'}, {'Name': 'pubmed_pubmed', 'Menu': 'Similar articles', 'Description': 'Similar PubMed articles, obtained by matching text and MeSH terms', 'DbTo': 'pubmed'}, {'Name': 'pubmed_pubmed_alsoviewed', 'Menu': 'Articles frequently viewed together', 'Description': 'Articles frequently viewed together', 'DbTo': 'pubmed'}, {'Name': 'pubmed_pubmed_bookrecords', 'Menu': 'References for this Bookshelf citation', 'Description': 'PubMed abstracts for articles cited in this record', 'DbTo': 'pubmed'}, {'Name': 'pubmed_pubmed_refs', 'Menu': 'References for PMC Articles', 'Description': 'References for this PMC Article', 'DbTo': 'pubmed'}, {'Name': 'pubmed_snp', 'Menu': 'SNP Links', 'Description': 'PubMed to SNP links', 'DbTo': 'snp'}, {'Name': 'pubmed_snp_cited', 'Menu': 'SNP (Cited)', 'Description': 'Related SNP (Cited) records', 'DbTo': 'snp'}, {'Name': 'pubmed_sra', 'Menu': 'SRA Links', 'Description': 'Links to Short Read Archive Experiments', 'DbTo': 'sra'}, {'Name': 'pubmed_structure', 'Menu': 'Structure Links', 'Description': 'Published 3D structures', 'DbTo': 'structure'}, {'Name': 'pubmed_taxonomy_entrez', 'Menu': 'Taxonomy via GenBank', 'Description': 'Related Taxonomy entry computed using other Entrez links', 'DbTo': 'taxonomy'}]}}\n"
     ]
    }
   ],
   "source": [
    "pubmed=Entrez.read(Entrez.einfo(db='pubmed'))\n",
    "print(pubmed)"
   ]
  },
  {
   "cell_type": "code",
   "execution_count": 9,
   "metadata": {},
   "outputs": [
    {
     "data": {
      "text/plain": [
       "Bio.Entrez.Parser.DictionaryElement"
      ]
     },
     "execution_count": 9,
     "metadata": {},
     "output_type": "execute_result"
    }
   ],
   "source": [
    "type(pubmed)"
   ]
  },
  {
   "cell_type": "code",
   "execution_count": 10,
   "metadata": {},
   "outputs": [
    {
     "data": {
      "text/plain": [
       "{'DbInfo': {'DbName': 'gds', 'MenuName': 'GEO DataSets', 'Description': 'GEO DataSets', 'DbBuild': 'Build230704-1917.1', 'Count': '6157072', 'LastUpdate': '2023/07/04 21:41', 'FieldList': [{'Name': 'ALL', 'FullName': 'All Fields', 'Description': 'All terms from all searchable fields', 'TermCount': '33937773', 'IsDate': 'N', 'IsNumerical': 'N', 'SingleToken': 'N', 'Hierarchy': 'N', 'IsHidden': 'N'}, {'Name': 'UID', 'FullName': 'UID', 'Description': 'Unique number assigned to publication', 'TermCount': '0', 'IsDate': 'N', 'IsNumerical': 'Y', 'SingleToken': 'Y', 'Hierarchy': 'N', 'IsHidden': 'Y'}, {'Name': 'FILT', 'FullName': 'Filter', 'Description': 'Limits the records', 'TermCount': '71', 'IsDate': 'N', 'IsNumerical': 'N', 'SingleToken': 'Y', 'Hierarchy': 'N', 'IsHidden': 'N'}, {'Name': 'ORGN', 'FullName': 'Organism', 'Description': 'exploded organism names', 'TermCount': '64987', 'IsDate': 'N', 'IsNumerical': 'N', 'SingleToken': 'Y', 'Hierarchy': 'Y', 'IsHidden': 'N'}, {'Name': 'ACCN', 'FullName': 'GEO Accession', 'Description': 'accession for GDS (DataSet), GPL (Platform), GSM (Sample), GSE (Series)', 'TermCount': '13124862', 'IsDate': 'N', 'IsNumerical': 'N', 'SingleToken': 'Y', 'Hierarchy': 'N', 'IsHidden': 'N'}, {'Name': 'TITL', 'FullName': 'Title', 'Description': 'Words in title of record', 'TermCount': '7417743', 'IsDate': 'N', 'IsNumerical': 'N', 'SingleToken': 'Y', 'Hierarchy': 'N', 'IsHidden': 'N'}, {'Name': 'DESC', 'FullName': 'Description', 'Description': 'Text from description, summary and other similar fields', 'TermCount': '8445728', 'IsDate': 'N', 'IsNumerical': 'N', 'SingleToken': 'Y', 'Hierarchy': 'N', 'IsHidden': 'N'}, {'Name': 'SFIL', 'FullName': 'Supplementary Files', 'Description': 'Supplementary Files', 'TermCount': '234', 'IsDate': 'N', 'IsNumerical': 'N', 'SingleToken': 'Y', 'Hierarchy': 'N', 'IsHidden': 'N'}, {'Name': 'ETYP', 'FullName': 'Entry Type', 'Description': 'Entry type (DataSet or Series)', 'TermCount': '4', 'IsDate': 'N', 'IsNumerical': 'N', 'SingleToken': 'Y', 'Hierarchy': 'N', 'IsHidden': 'N'}, {'Name': 'STYP', 'FullName': 'Sample Type', 'Description': 'Sample type', 'TermCount': '9', 'IsDate': 'N', 'IsNumerical': 'N', 'SingleToken': 'Y', 'Hierarchy': 'N', 'IsHidden': 'N'}, {'Name': 'VTYP', 'FullName': 'Sample Value Type', 'Description': 'type of values, e.g. log ratio, count', 'TermCount': '7', 'IsDate': 'N', 'IsNumerical': 'N', 'SingleToken': 'Y', 'Hierarchy': 'N', 'IsHidden': 'N'}, {'Name': 'PTYP', 'FullName': 'Platform Technology Type', 'Description': 'Platform technology type', 'TermCount': '17', 'IsDate': 'N', 'IsNumerical': 'N', 'SingleToken': 'Y', 'Hierarchy': 'N', 'IsHidden': 'N'}, {'Name': 'GTYP', 'FullName': 'DataSet Type', 'Description': 'type of dataset', 'TermCount': '27', 'IsDate': 'N', 'IsNumerical': 'N', 'SingleToken': 'Y', 'Hierarchy': 'N', 'IsHidden': 'N'}, {'Name': 'NSAM', 'FullName': 'Number of Samples', 'Description': 'Number of samples', 'TermCount': '1827', 'IsDate': 'N', 'IsNumerical': 'Y', 'SingleToken': 'Y', 'Hierarchy': 'N', 'IsHidden': 'N'}, {'Name': 'SRC', 'FullName': 'Sample Source', 'Description': 'sample source', 'TermCount': '424041', 'IsDate': 'N', 'IsNumerical': 'N', 'SingleToken': 'Y', 'Hierarchy': 'N', 'IsHidden': 'N'}, {'Name': 'AUTH', 'FullName': 'Author', 'Description': 'author of the GEO Sample, Platform or Series', 'TermCount': '1077128', 'IsDate': 'N', 'IsNumerical': 'N', 'SingleToken': 'Y', 'Hierarchy': 'N', 'IsHidden': 'N'}, {'Name': 'INST', 'FullName': 'Submitter Institute', 'Description': 'institute, or organization affiliatedd with contributers', 'TermCount': '21214', 'IsDate': 'N', 'IsNumerical': 'N', 'SingleToken': 'Y', 'Hierarchy': 'N', 'IsHidden': 'N'}, {'Name': 'NPRO', 'FullName': 'Number of Platform Probes', 'Description': 'number of platform probes', 'TermCount': '7156', 'IsDate': 'N', 'IsNumerical': 'Y', 'SingleToken': 'Y', 'Hierarchy': 'N', 'IsHidden': 'N'}, {'Name': 'SSTP', 'FullName': 'Subset Variable Type', 'Description': 'subset variable type', 'TermCount': '24', 'IsDate': 'N', 'IsNumerical': 'N', 'SingleToken': 'Y', 'Hierarchy': 'N', 'IsHidden': 'N'}, {'Name': 'SSDE', 'FullName': 'Subset Description', 'Description': 'subset description', 'TermCount': '7535', 'IsDate': 'N', 'IsNumerical': 'N', 'SingleToken': 'Y', 'Hierarchy': 'N', 'IsHidden': 'N'}, {'Name': 'GEID', 'FullName': 'Reporter Identifier', 'Description': 'name or identifier for the spot, e.g. GenBank, UniGene ID, Locus Link ID etc.', 'TermCount': '2840498', 'IsDate': 'N', 'IsNumerical': 'N', 'SingleToken': 'Y', 'Hierarchy': 'N', 'IsHidden': 'N'}, {'Name': 'PDAT', 'FullName': 'Publication Date', 'Description': 'publication date from the GEO related entities', 'TermCount': '7550', 'IsDate': 'Y', 'IsNumerical': 'N', 'SingleToken': 'Y', 'Hierarchy': 'N', 'IsHidden': 'N'}, {'Name': 'UDAT', 'FullName': 'Update Date', 'Description': 'date', 'TermCount': '6669', 'IsDate': 'Y', 'IsNumerical': 'N', 'SingleToken': 'Y', 'Hierarchy': 'N', 'IsHidden': 'N'}, {'Name': 'TAGL', 'FullName': 'Tag Length', 'Description': 'Tag/Signature length for SAGE/MPSS', 'TermCount': '9', 'IsDate': 'N', 'IsNumerical': 'N', 'SingleToken': 'Y', 'Hierarchy': 'N', 'IsHidden': 'N'}, {'Name': 'RGSE', 'FullName': 'Related Series', 'Description': 'Related Series', 'TermCount': '27639', 'IsDate': 'N', 'IsNumerical': 'N', 'SingleToken': 'Y', 'Hierarchy': 'N', 'IsHidden': 'N'}, {'Name': 'RGPL', 'FullName': 'Related Platform', 'Description': 'Related Platform', 'TermCount': '207412', 'IsDate': 'N', 'IsNumerical': 'N', 'SingleToken': 'Y', 'Hierarchy': 'N', 'IsHidden': 'N'}, {'Name': 'MESH', 'FullName': 'MeSH Terms', 'Description': 'Medical Subject Headings', 'TermCount': '17027', 'IsDate': 'N', 'IsNumerical': 'N', 'SingleToken': 'Y', 'Hierarchy': 'Y', 'IsHidden': 'N'}, {'Name': 'PROJ', 'FullName': 'Project', 'Description': 'Project', 'TermCount': '8', 'IsDate': 'N', 'IsNumerical': 'N', 'SingleToken': 'Y', 'Hierarchy': 'N', 'IsHidden': 'N'}, {'Name': 'ATNM', 'FullName': 'Attribute Name', 'Description': 'Attribute Name', 'TermCount': '44038', 'IsDate': 'N', 'IsNumerical': 'N', 'SingleToken': 'Y', 'Hierarchy': 'N', 'IsHidden': 'N'}, {'Name': 'ATTR', 'FullName': 'Attribute', 'Description': 'Attribute', 'TermCount': '2315672', 'IsDate': 'N', 'IsNumerical': 'N', 'SingleToken': 'Y', 'Hierarchy': 'N', 'IsHidden': 'N'}, {'Name': 'PROP', 'FullName': 'Properties', 'Description': 'Properties', 'TermCount': '3', 'IsDate': 'N', 'IsNumerical': 'N', 'SingleToken': 'Y', 'Hierarchy': 'N', 'IsHidden': 'N'}], 'LinkList': [{'Name': 'gds_bioproject', 'Menu': 'BioProject Links', 'Description': 'BioProject links', 'DbTo': 'bioproject'}, {'Name': 'gds_biosample', 'Menu': 'BioSample links', 'Description': 'BioSample links', 'DbTo': 'biosample'}, {'Name': 'gds_dbvar', 'Menu': 'dbVar Links', 'Description': 'Link from GEO DataSets to dbVar', 'DbTo': 'dbvar'}, {'Name': 'gds_gds', 'Menu': 'Related DataSets', 'Description': 'Related GEO DataSets', 'DbTo': 'gds'}, {'Name': 'gds_gds_similar', 'Menu': 'Similar studies', 'Description': 'Similar studies', 'DbTo': 'gds'}, {'Name': 'gds_geoprofiles', 'Menu': 'GEO Profiles', 'Description': 'Related GEO', 'DbTo': 'geoprofiles'}, {'Name': 'gds_pmc', 'Menu': 'PMC Links', 'Description': 'PMC links', 'DbTo': 'pmc'}, {'Name': 'gds_pubmed', 'Menu': 'PubMed Links', 'Description': 'Related PubMed entries', 'DbTo': 'pubmed'}, {'Name': 'gds_sra', 'Menu': 'SRA Links', 'Description': 'Links to Short Read Archive Experiments', 'DbTo': 'sra'}, {'Name': 'gds_taxonomy', 'Menu': 'Taxonomy Links', 'Description': 'Taxonomy', 'DbTo': 'taxonomy'}]}}"
      ]
     },
     "execution_count": 10,
     "metadata": {},
     "output_type": "execute_result"
    }
   ],
   "source": [
    "geo = Entrez.read(Entrez.einfo(db='gds'))\n",
    "geo "
   ]
  },
  {
   "cell_type": "code",
   "execution_count": 11,
   "metadata": {},
   "outputs": [
    {
     "data": {
      "text/plain": [
       "Bio.Entrez.Parser.DictionaryElement"
      ]
     },
     "execution_count": 11,
     "metadata": {},
     "output_type": "execute_result"
    }
   ],
   "source": [
    "type(geo)"
   ]
  },
  {
   "cell_type": "code",
   "execution_count": 12,
   "metadata": {},
   "outputs": [
    {
     "data": {
      "text/plain": [
       "dict_keys(['DbInfo'])"
      ]
     },
     "execution_count": 12,
     "metadata": {},
     "output_type": "execute_result"
    }
   ],
   "source": [
    "geo.keys()"
   ]
  },
  {
   "cell_type": "code",
   "execution_count": 13,
   "metadata": {},
   "outputs": [
    {
     "data": {
      "text/plain": [
       "dict_keys(['DbName', 'MenuName', 'Description', 'DbBuild', 'Count', 'LastUpdate', 'FieldList', 'LinkList'])"
      ]
     },
     "execution_count": 13,
     "metadata": {},
     "output_type": "execute_result"
    }
   ],
   "source": [
    "geo['DbInfo'].keys()"
   ]
  },
  {
   "cell_type": "code",
   "execution_count": 14,
   "metadata": {},
   "outputs": [
    {
     "data": {
      "text/plain": [
       "'GEO DataSets'"
      ]
     },
     "execution_count": 14,
     "metadata": {},
     "output_type": "execute_result"
    }
   ],
   "source": [
    "geo['DbInfo']['Description']"
   ]
  },
  {
   "cell_type": "code",
   "execution_count": 15,
   "metadata": {},
   "outputs": [
    {
     "data": {
      "text/plain": [
       "'GEO DataSets'"
      ]
     },
     "execution_count": 15,
     "metadata": {},
     "output_type": "execute_result"
    }
   ],
   "source": [
    "geo['DbInfo']['MenuName']"
   ]
  },
  {
   "cell_type": "code",
   "execution_count": 16,
   "metadata": {},
   "outputs": [
    {
     "data": {
      "text/plain": [
       "'Build230704-1917.1'"
      ]
     },
     "execution_count": 16,
     "metadata": {},
     "output_type": "execute_result"
    }
   ],
   "source": [
    "geo['DbInfo']['DbBuild']"
   ]
  },
  {
   "cell_type": "code",
   "execution_count": 17,
   "metadata": {},
   "outputs": [
    {
     "data": {
      "text/plain": [
       "'6157072'"
      ]
     },
     "execution_count": 17,
     "metadata": {},
     "output_type": "execute_result"
    }
   ],
   "source": [
    "geo['DbInfo']['Count']"
   ]
  },
  {
   "cell_type": "code",
   "execution_count": 18,
   "metadata": {},
   "outputs": [
    {
     "data": {
      "text/plain": [
       "[{'Name': 'gds_bioproject', 'Menu': 'BioProject Links', 'Description': 'BioProject links', 'DbTo': 'bioproject'}, {'Name': 'gds_biosample', 'Menu': 'BioSample links', 'Description': 'BioSample links', 'DbTo': 'biosample'}, {'Name': 'gds_dbvar', 'Menu': 'dbVar Links', 'Description': 'Link from GEO DataSets to dbVar', 'DbTo': 'dbvar'}, {'Name': 'gds_gds', 'Menu': 'Related DataSets', 'Description': 'Related GEO DataSets', 'DbTo': 'gds'}, {'Name': 'gds_gds_similar', 'Menu': 'Similar studies', 'Description': 'Similar studies', 'DbTo': 'gds'}, {'Name': 'gds_geoprofiles', 'Menu': 'GEO Profiles', 'Description': 'Related GEO', 'DbTo': 'geoprofiles'}, {'Name': 'gds_pmc', 'Menu': 'PMC Links', 'Description': 'PMC links', 'DbTo': 'pmc'}, {'Name': 'gds_pubmed', 'Menu': 'PubMed Links', 'Description': 'Related PubMed entries', 'DbTo': 'pubmed'}, {'Name': 'gds_sra', 'Menu': 'SRA Links', 'Description': 'Links to Short Read Archive Experiments', 'DbTo': 'sra'}, {'Name': 'gds_taxonomy', 'Menu': 'Taxonomy Links', 'Description': 'Taxonomy', 'DbTo': 'taxonomy'}]"
      ]
     },
     "execution_count": 18,
     "metadata": {},
     "output_type": "execute_result"
    }
   ],
   "source": [
    "geo['DbInfo']['LinkList']"
   ]
  },
  {
   "cell_type": "code",
   "execution_count": 19,
   "metadata": {},
   "outputs": [
    {
     "data": {
      "text/plain": [
       "{'Name': 'gds_bioproject', 'Menu': 'BioProject Links', 'Description': 'BioProject links', 'DbTo': 'bioproject'}"
      ]
     },
     "execution_count": 19,
     "metadata": {},
     "output_type": "execute_result"
    }
   ],
   "source": [
    "geo['DbInfo']['LinkList'][0] "
   ]
  },
  {
   "cell_type": "code",
   "execution_count": 20,
   "metadata": {},
   "outputs": [
    {
     "data": {
      "text/plain": [
       "{'Name': 'gds_biosample', 'Menu': 'BioSample links', 'Description': 'BioSample links', 'DbTo': 'biosample'}"
      ]
     },
     "execution_count": 20,
     "metadata": {},
     "output_type": "execute_result"
    }
   ],
   "source": [
    "geo['DbInfo']['LinkList'][1]"
   ]
  },
  {
   "cell_type": "code",
   "execution_count": 21,
   "metadata": {},
   "outputs": [
    {
     "data": {
      "text/plain": [
       "[{'Name': 'ALL', 'FullName': 'All Fields', 'Description': 'All terms from all searchable fields', 'TermCount': '33937773', 'IsDate': 'N', 'IsNumerical': 'N', 'SingleToken': 'N', 'Hierarchy': 'N', 'IsHidden': 'N'}, {'Name': 'UID', 'FullName': 'UID', 'Description': 'Unique number assigned to publication', 'TermCount': '0', 'IsDate': 'N', 'IsNumerical': 'Y', 'SingleToken': 'Y', 'Hierarchy': 'N', 'IsHidden': 'Y'}, {'Name': 'FILT', 'FullName': 'Filter', 'Description': 'Limits the records', 'TermCount': '71', 'IsDate': 'N', 'IsNumerical': 'N', 'SingleToken': 'Y', 'Hierarchy': 'N', 'IsHidden': 'N'}, {'Name': 'ORGN', 'FullName': 'Organism', 'Description': 'exploded organism names', 'TermCount': '64987', 'IsDate': 'N', 'IsNumerical': 'N', 'SingleToken': 'Y', 'Hierarchy': 'Y', 'IsHidden': 'N'}, {'Name': 'ACCN', 'FullName': 'GEO Accession', 'Description': 'accession for GDS (DataSet), GPL (Platform), GSM (Sample), GSE (Series)', 'TermCount': '13124862', 'IsDate': 'N', 'IsNumerical': 'N', 'SingleToken': 'Y', 'Hierarchy': 'N', 'IsHidden': 'N'}, {'Name': 'TITL', 'FullName': 'Title', 'Description': 'Words in title of record', 'TermCount': '7417743', 'IsDate': 'N', 'IsNumerical': 'N', 'SingleToken': 'Y', 'Hierarchy': 'N', 'IsHidden': 'N'}, {'Name': 'DESC', 'FullName': 'Description', 'Description': 'Text from description, summary and other similar fields', 'TermCount': '8445728', 'IsDate': 'N', 'IsNumerical': 'N', 'SingleToken': 'Y', 'Hierarchy': 'N', 'IsHidden': 'N'}, {'Name': 'SFIL', 'FullName': 'Supplementary Files', 'Description': 'Supplementary Files', 'TermCount': '234', 'IsDate': 'N', 'IsNumerical': 'N', 'SingleToken': 'Y', 'Hierarchy': 'N', 'IsHidden': 'N'}, {'Name': 'ETYP', 'FullName': 'Entry Type', 'Description': 'Entry type (DataSet or Series)', 'TermCount': '4', 'IsDate': 'N', 'IsNumerical': 'N', 'SingleToken': 'Y', 'Hierarchy': 'N', 'IsHidden': 'N'}, {'Name': 'STYP', 'FullName': 'Sample Type', 'Description': 'Sample type', 'TermCount': '9', 'IsDate': 'N', 'IsNumerical': 'N', 'SingleToken': 'Y', 'Hierarchy': 'N', 'IsHidden': 'N'}, {'Name': 'VTYP', 'FullName': 'Sample Value Type', 'Description': 'type of values, e.g. log ratio, count', 'TermCount': '7', 'IsDate': 'N', 'IsNumerical': 'N', 'SingleToken': 'Y', 'Hierarchy': 'N', 'IsHidden': 'N'}, {'Name': 'PTYP', 'FullName': 'Platform Technology Type', 'Description': 'Platform technology type', 'TermCount': '17', 'IsDate': 'N', 'IsNumerical': 'N', 'SingleToken': 'Y', 'Hierarchy': 'N', 'IsHidden': 'N'}, {'Name': 'GTYP', 'FullName': 'DataSet Type', 'Description': 'type of dataset', 'TermCount': '27', 'IsDate': 'N', 'IsNumerical': 'N', 'SingleToken': 'Y', 'Hierarchy': 'N', 'IsHidden': 'N'}, {'Name': 'NSAM', 'FullName': 'Number of Samples', 'Description': 'Number of samples', 'TermCount': '1827', 'IsDate': 'N', 'IsNumerical': 'Y', 'SingleToken': 'Y', 'Hierarchy': 'N', 'IsHidden': 'N'}, {'Name': 'SRC', 'FullName': 'Sample Source', 'Description': 'sample source', 'TermCount': '424041', 'IsDate': 'N', 'IsNumerical': 'N', 'SingleToken': 'Y', 'Hierarchy': 'N', 'IsHidden': 'N'}, {'Name': 'AUTH', 'FullName': 'Author', 'Description': 'author of the GEO Sample, Platform or Series', 'TermCount': '1077128', 'IsDate': 'N', 'IsNumerical': 'N', 'SingleToken': 'Y', 'Hierarchy': 'N', 'IsHidden': 'N'}, {'Name': 'INST', 'FullName': 'Submitter Institute', 'Description': 'institute, or organization affiliatedd with contributers', 'TermCount': '21214', 'IsDate': 'N', 'IsNumerical': 'N', 'SingleToken': 'Y', 'Hierarchy': 'N', 'IsHidden': 'N'}, {'Name': 'NPRO', 'FullName': 'Number of Platform Probes', 'Description': 'number of platform probes', 'TermCount': '7156', 'IsDate': 'N', 'IsNumerical': 'Y', 'SingleToken': 'Y', 'Hierarchy': 'N', 'IsHidden': 'N'}, {'Name': 'SSTP', 'FullName': 'Subset Variable Type', 'Description': 'subset variable type', 'TermCount': '24', 'IsDate': 'N', 'IsNumerical': 'N', 'SingleToken': 'Y', 'Hierarchy': 'N', 'IsHidden': 'N'}, {'Name': 'SSDE', 'FullName': 'Subset Description', 'Description': 'subset description', 'TermCount': '7535', 'IsDate': 'N', 'IsNumerical': 'N', 'SingleToken': 'Y', 'Hierarchy': 'N', 'IsHidden': 'N'}, {'Name': 'GEID', 'FullName': 'Reporter Identifier', 'Description': 'name or identifier for the spot, e.g. GenBank, UniGene ID, Locus Link ID etc.', 'TermCount': '2840498', 'IsDate': 'N', 'IsNumerical': 'N', 'SingleToken': 'Y', 'Hierarchy': 'N', 'IsHidden': 'N'}, {'Name': 'PDAT', 'FullName': 'Publication Date', 'Description': 'publication date from the GEO related entities', 'TermCount': '7550', 'IsDate': 'Y', 'IsNumerical': 'N', 'SingleToken': 'Y', 'Hierarchy': 'N', 'IsHidden': 'N'}, {'Name': 'UDAT', 'FullName': 'Update Date', 'Description': 'date', 'TermCount': '6669', 'IsDate': 'Y', 'IsNumerical': 'N', 'SingleToken': 'Y', 'Hierarchy': 'N', 'IsHidden': 'N'}, {'Name': 'TAGL', 'FullName': 'Tag Length', 'Description': 'Tag/Signature length for SAGE/MPSS', 'TermCount': '9', 'IsDate': 'N', 'IsNumerical': 'N', 'SingleToken': 'Y', 'Hierarchy': 'N', 'IsHidden': 'N'}, {'Name': 'RGSE', 'FullName': 'Related Series', 'Description': 'Related Series', 'TermCount': '27639', 'IsDate': 'N', 'IsNumerical': 'N', 'SingleToken': 'Y', 'Hierarchy': 'N', 'IsHidden': 'N'}, {'Name': 'RGPL', 'FullName': 'Related Platform', 'Description': 'Related Platform', 'TermCount': '207412', 'IsDate': 'N', 'IsNumerical': 'N', 'SingleToken': 'Y', 'Hierarchy': 'N', 'IsHidden': 'N'}, {'Name': 'MESH', 'FullName': 'MeSH Terms', 'Description': 'Medical Subject Headings', 'TermCount': '17027', 'IsDate': 'N', 'IsNumerical': 'N', 'SingleToken': 'Y', 'Hierarchy': 'Y', 'IsHidden': 'N'}, {'Name': 'PROJ', 'FullName': 'Project', 'Description': 'Project', 'TermCount': '8', 'IsDate': 'N', 'IsNumerical': 'N', 'SingleToken': 'Y', 'Hierarchy': 'N', 'IsHidden': 'N'}, {'Name': 'ATNM', 'FullName': 'Attribute Name', 'Description': 'Attribute Name', 'TermCount': '44038', 'IsDate': 'N', 'IsNumerical': 'N', 'SingleToken': 'Y', 'Hierarchy': 'N', 'IsHidden': 'N'}, {'Name': 'ATTR', 'FullName': 'Attribute', 'Description': 'Attribute', 'TermCount': '2315672', 'IsDate': 'N', 'IsNumerical': 'N', 'SingleToken': 'Y', 'Hierarchy': 'N', 'IsHidden': 'N'}, {'Name': 'PROP', 'FullName': 'Properties', 'Description': 'Properties', 'TermCount': '3', 'IsDate': 'N', 'IsNumerical': 'N', 'SingleToken': 'Y', 'Hierarchy': 'N', 'IsHidden': 'N'}]"
      ]
     },
     "execution_count": 21,
     "metadata": {},
     "output_type": "execute_result"
    }
   ],
   "source": [
    "geo['DbInfo']['FieldList']"
   ]
  },
  {
   "cell_type": "code",
   "execution_count": 22,
   "metadata": {},
   "outputs": [
    {
     "data": {
      "text/html": [
       "<div>\n",
       "<style scoped>\n",
       "    .dataframe tbody tr th:only-of-type {\n",
       "        vertical-align: middle;\n",
       "    }\n",
       "\n",
       "    .dataframe tbody tr th {\n",
       "        vertical-align: top;\n",
       "    }\n",
       "\n",
       "    .dataframe thead th {\n",
       "        text-align: right;\n",
       "    }\n",
       "</style>\n",
       "<table border=\"1\" class=\"dataframe\">\n",
       "  <thead>\n",
       "    <tr style=\"text-align: right;\">\n",
       "      <th></th>\n",
       "      <th>Name</th>\n",
       "      <th>FullName</th>\n",
       "      <th>Description</th>\n",
       "      <th>TermCount</th>\n",
       "      <th>IsDate</th>\n",
       "      <th>IsNumerical</th>\n",
       "      <th>SingleToken</th>\n",
       "      <th>Hierarchy</th>\n",
       "      <th>IsHidden</th>\n",
       "    </tr>\n",
       "  </thead>\n",
       "  <tbody>\n",
       "    <tr>\n",
       "      <th>0</th>\n",
       "      <td>ALL</td>\n",
       "      <td>All Fields</td>\n",
       "      <td>All terms from all searchable fields</td>\n",
       "      <td>33937773</td>\n",
       "      <td>N</td>\n",
       "      <td>N</td>\n",
       "      <td>N</td>\n",
       "      <td>N</td>\n",
       "      <td>N</td>\n",
       "    </tr>\n",
       "    <tr>\n",
       "      <th>1</th>\n",
       "      <td>UID</td>\n",
       "      <td>UID</td>\n",
       "      <td>Unique number assigned to publication</td>\n",
       "      <td>0</td>\n",
       "      <td>N</td>\n",
       "      <td>Y</td>\n",
       "      <td>Y</td>\n",
       "      <td>N</td>\n",
       "      <td>Y</td>\n",
       "    </tr>\n",
       "    <tr>\n",
       "      <th>2</th>\n",
       "      <td>FILT</td>\n",
       "      <td>Filter</td>\n",
       "      <td>Limits the records</td>\n",
       "      <td>71</td>\n",
       "      <td>N</td>\n",
       "      <td>N</td>\n",
       "      <td>Y</td>\n",
       "      <td>N</td>\n",
       "      <td>N</td>\n",
       "    </tr>\n",
       "    <tr>\n",
       "      <th>3</th>\n",
       "      <td>ORGN</td>\n",
       "      <td>Organism</td>\n",
       "      <td>exploded organism names</td>\n",
       "      <td>64987</td>\n",
       "      <td>N</td>\n",
       "      <td>N</td>\n",
       "      <td>Y</td>\n",
       "      <td>Y</td>\n",
       "      <td>N</td>\n",
       "    </tr>\n",
       "    <tr>\n",
       "      <th>4</th>\n",
       "      <td>ACCN</td>\n",
       "      <td>GEO Accession</td>\n",
       "      <td>accession for GDS (DataSet), GPL (Platform), G...</td>\n",
       "      <td>13124862</td>\n",
       "      <td>N</td>\n",
       "      <td>N</td>\n",
       "      <td>Y</td>\n",
       "      <td>N</td>\n",
       "      <td>N</td>\n",
       "    </tr>\n",
       "    <tr>\n",
       "      <th>5</th>\n",
       "      <td>TITL</td>\n",
       "      <td>Title</td>\n",
       "      <td>Words in title of record</td>\n",
       "      <td>7417743</td>\n",
       "      <td>N</td>\n",
       "      <td>N</td>\n",
       "      <td>Y</td>\n",
       "      <td>N</td>\n",
       "      <td>N</td>\n",
       "    </tr>\n",
       "    <tr>\n",
       "      <th>6</th>\n",
       "      <td>DESC</td>\n",
       "      <td>Description</td>\n",
       "      <td>Text from description, summary and other simil...</td>\n",
       "      <td>8445728</td>\n",
       "      <td>N</td>\n",
       "      <td>N</td>\n",
       "      <td>Y</td>\n",
       "      <td>N</td>\n",
       "      <td>N</td>\n",
       "    </tr>\n",
       "    <tr>\n",
       "      <th>7</th>\n",
       "      <td>SFIL</td>\n",
       "      <td>Supplementary Files</td>\n",
       "      <td>Supplementary Files</td>\n",
       "      <td>234</td>\n",
       "      <td>N</td>\n",
       "      <td>N</td>\n",
       "      <td>Y</td>\n",
       "      <td>N</td>\n",
       "      <td>N</td>\n",
       "    </tr>\n",
       "    <tr>\n",
       "      <th>8</th>\n",
       "      <td>ETYP</td>\n",
       "      <td>Entry Type</td>\n",
       "      <td>Entry type (DataSet or Series)</td>\n",
       "      <td>4</td>\n",
       "      <td>N</td>\n",
       "      <td>N</td>\n",
       "      <td>Y</td>\n",
       "      <td>N</td>\n",
       "      <td>N</td>\n",
       "    </tr>\n",
       "    <tr>\n",
       "      <th>9</th>\n",
       "      <td>STYP</td>\n",
       "      <td>Sample Type</td>\n",
       "      <td>Sample type</td>\n",
       "      <td>9</td>\n",
       "      <td>N</td>\n",
       "      <td>N</td>\n",
       "      <td>Y</td>\n",
       "      <td>N</td>\n",
       "      <td>N</td>\n",
       "    </tr>\n",
       "  </tbody>\n",
       "</table>\n",
       "</div>"
      ],
      "text/plain": [
       "   Name             FullName  \\\n",
       "0   ALL           All Fields   \n",
       "1   UID                  UID   \n",
       "2  FILT               Filter   \n",
       "3  ORGN             Organism   \n",
       "4  ACCN        GEO Accession   \n",
       "5  TITL                Title   \n",
       "6  DESC          Description   \n",
       "7  SFIL  Supplementary Files   \n",
       "8  ETYP           Entry Type   \n",
       "9  STYP          Sample Type   \n",
       "\n",
       "                                         Description TermCount IsDate  \\\n",
       "0               All terms from all searchable fields  33937773      N   \n",
       "1              Unique number assigned to publication         0      N   \n",
       "2                                 Limits the records        71      N   \n",
       "3                            exploded organism names     64987      N   \n",
       "4  accession for GDS (DataSet), GPL (Platform), G...  13124862      N   \n",
       "5                           Words in title of record   7417743      N   \n",
       "6  Text from description, summary and other simil...   8445728      N   \n",
       "7                                Supplementary Files       234      N   \n",
       "8                     Entry type (DataSet or Series)         4      N   \n",
       "9                                        Sample type         9      N   \n",
       "\n",
       "  IsNumerical SingleToken Hierarchy IsHidden  \n",
       "0           N           N         N        N  \n",
       "1           Y           Y         N        Y  \n",
       "2           N           Y         N        N  \n",
       "3           N           Y         Y        N  \n",
       "4           N           Y         N        N  \n",
       "5           N           Y         N        N  \n",
       "6           N           Y         N        N  \n",
       "7           N           Y         N        N  \n",
       "8           N           Y         N        N  \n",
       "9           N           Y         N        N  "
      ]
     },
     "execution_count": 22,
     "metadata": {},
     "output_type": "execute_result"
    }
   ],
   "source": [
    "pd.DataFrame(geo['DbInfo']['FieldList']).head(10)\n"
   ]
  },
  {
   "cell_type": "code",
   "execution_count": 23,
   "metadata": {},
   "outputs": [
    {
     "data": {
      "text/html": [
       "<div>\n",
       "<style scoped>\n",
       "    .dataframe tbody tr th:only-of-type {\n",
       "        vertical-align: middle;\n",
       "    }\n",
       "\n",
       "    .dataframe tbody tr th {\n",
       "        vertical-align: top;\n",
       "    }\n",
       "\n",
       "    .dataframe thead th {\n",
       "        text-align: right;\n",
       "    }\n",
       "</style>\n",
       "<table border=\"1\" class=\"dataframe\">\n",
       "  <thead>\n",
       "    <tr style=\"text-align: right;\">\n",
       "      <th></th>\n",
       "      <th>Name</th>\n",
       "      <th>Menu</th>\n",
       "      <th>Description</th>\n",
       "      <th>DbTo</th>\n",
       "    </tr>\n",
       "  </thead>\n",
       "  <tbody>\n",
       "    <tr>\n",
       "      <th>0</th>\n",
       "      <td>gds_bioproject</td>\n",
       "      <td>BioProject Links</td>\n",
       "      <td>BioProject links</td>\n",
       "      <td>bioproject</td>\n",
       "    </tr>\n",
       "    <tr>\n",
       "      <th>1</th>\n",
       "      <td>gds_biosample</td>\n",
       "      <td>BioSample links</td>\n",
       "      <td>BioSample links</td>\n",
       "      <td>biosample</td>\n",
       "    </tr>\n",
       "    <tr>\n",
       "      <th>2</th>\n",
       "      <td>gds_dbvar</td>\n",
       "      <td>dbVar Links</td>\n",
       "      <td>Link from GEO DataSets to dbVar</td>\n",
       "      <td>dbvar</td>\n",
       "    </tr>\n",
       "    <tr>\n",
       "      <th>3</th>\n",
       "      <td>gds_gds</td>\n",
       "      <td>Related DataSets</td>\n",
       "      <td>Related GEO DataSets</td>\n",
       "      <td>gds</td>\n",
       "    </tr>\n",
       "    <tr>\n",
       "      <th>4</th>\n",
       "      <td>gds_gds_similar</td>\n",
       "      <td>Similar studies</td>\n",
       "      <td>Similar studies</td>\n",
       "      <td>gds</td>\n",
       "    </tr>\n",
       "    <tr>\n",
       "      <th>5</th>\n",
       "      <td>gds_geoprofiles</td>\n",
       "      <td>GEO Profiles</td>\n",
       "      <td>Related GEO</td>\n",
       "      <td>geoprofiles</td>\n",
       "    </tr>\n",
       "    <tr>\n",
       "      <th>6</th>\n",
       "      <td>gds_pmc</td>\n",
       "      <td>PMC Links</td>\n",
       "      <td>PMC links</td>\n",
       "      <td>pmc</td>\n",
       "    </tr>\n",
       "    <tr>\n",
       "      <th>7</th>\n",
       "      <td>gds_pubmed</td>\n",
       "      <td>PubMed Links</td>\n",
       "      <td>Related PubMed entries</td>\n",
       "      <td>pubmed</td>\n",
       "    </tr>\n",
       "    <tr>\n",
       "      <th>8</th>\n",
       "      <td>gds_sra</td>\n",
       "      <td>SRA Links</td>\n",
       "      <td>Links to Short Read Archive Experiments</td>\n",
       "      <td>sra</td>\n",
       "    </tr>\n",
       "    <tr>\n",
       "      <th>9</th>\n",
       "      <td>gds_taxonomy</td>\n",
       "      <td>Taxonomy Links</td>\n",
       "      <td>Taxonomy</td>\n",
       "      <td>taxonomy</td>\n",
       "    </tr>\n",
       "  </tbody>\n",
       "</table>\n",
       "</div>"
      ],
      "text/plain": [
       "              Name              Menu                              Description  \\\n",
       "0   gds_bioproject  BioProject Links                         BioProject links   \n",
       "1    gds_biosample   BioSample links                          BioSample links   \n",
       "2        gds_dbvar       dbVar Links          Link from GEO DataSets to dbVar   \n",
       "3          gds_gds  Related DataSets                     Related GEO DataSets   \n",
       "4  gds_gds_similar   Similar studies                          Similar studies   \n",
       "5  gds_geoprofiles      GEO Profiles                              Related GEO   \n",
       "6          gds_pmc         PMC Links                                PMC links   \n",
       "7       gds_pubmed      PubMed Links                   Related PubMed entries   \n",
       "8          gds_sra         SRA Links  Links to Short Read Archive Experiments   \n",
       "9     gds_taxonomy    Taxonomy Links                                 Taxonomy   \n",
       "\n",
       "          DbTo  \n",
       "0   bioproject  \n",
       "1    biosample  \n",
       "2        dbvar  \n",
       "3          gds  \n",
       "4          gds  \n",
       "5  geoprofiles  \n",
       "6          pmc  \n",
       "7       pubmed  \n",
       "8          sra  \n",
       "9     taxonomy  "
      ]
     },
     "execution_count": 23,
     "metadata": {},
     "output_type": "execute_result"
    }
   ],
   "source": [
    "pd.DataFrame(geo['DbInfo']['LinkList'])"
   ]
  },
  {
   "cell_type": "code",
   "execution_count": 24,
   "metadata": {},
   "outputs": [
    {
     "data": {
      "text/plain": [
       "dict_keys(['Count', 'RetMax', 'RetStart', 'IdList', 'TranslationSet', 'TranslationStack', 'QueryTranslation', 'WarningList'])"
      ]
     },
     "execution_count": 24,
     "metadata": {},
     "output_type": "execute_result"
    }
   ],
   "source": [
    "handle=Entrez.esearch(db='gds', term='Adaptation of cultured adipocytes to cool temperatures')\n",
    "record=Entrez.read(handle)\n",
    "record.keys()"
   ]
  },
  {
   "cell_type": "code",
   "execution_count": 25,
   "metadata": {},
   "outputs": [
    {
     "data": {
      "text/plain": [
       "[{'Term': '\"acclimatization\"[MeSH Terms]', 'Field': 'MeSH Terms', 'Count': '45439', 'Explode': 'Y'}, {'Term': 'Adaptation[All Fields]', 'Field': 'All Fields', 'Count': '5767', 'Explode': 'N'}, 'OR', 'GROUP', {'Term': 'cultured[All Fields]', 'Field': 'All Fields', 'Count': '711090', 'Explode': 'N'}, 'AND', {'Term': '\"adipocytes\"[MeSH Terms]', 'Field': 'MeSH Terms', 'Count': '13363', 'Explode': 'Y'}, {'Term': 'adipocytes[All Fields]', 'Field': 'All Fields', 'Count': '13371', 'Explode': 'N'}, 'OR', 'GROUP', 'AND', {'Term': 'cool[All Fields]', 'Field': 'All Fields', 'Count': '10094', 'Explode': 'N'}, 'AND', {'Term': '\"temperature\"[MeSH Terms]', 'Field': 'MeSH Terms', 'Count': '262528', 'Explode': 'Y'}, {'Term': 'temperatures[All Fields]', 'Field': 'All Fields', 'Count': '12414', 'Explode': 'N'}, 'OR', 'GROUP', 'AND', 'GROUP']"
      ]
     },
     "execution_count": 25,
     "metadata": {},
     "output_type": "execute_result"
    }
   ],
   "source": [
    "record['TranslationStack']"
   ]
  },
  {
   "cell_type": "code",
   "execution_count": 26,
   "metadata": {},
   "outputs": [
    {
     "name": "stdout",
     "output_type": "stream",
     "text": [
      "\n"
     ]
    }
   ],
   "source": [
    "handle = Entrez.efetch(db='pubmed', id='27083874', rettype='fasta', retmode='text')\n",
    "print(handle.read())"
   ]
  },
  {
   "cell_type": "code",
   "execution_count": 27,
   "metadata": {},
   "outputs": [
    {
     "name": "stdout",
     "output_type": "stream",
     "text": [
      "\n",
      "1.  Error occurred: cannot get document summary\n",
      "Accession: \tID: 33979328\n",
      "\n"
     ]
    }
   ],
   "source": [
    "handle = Entrez.efetch(db='gds', id = '33979328') # doesnt work bc its not a id number\n",
    "print(handle.read())"
   ]
  },
  {
   "cell_type": "code",
   "execution_count": 28,
   "metadata": {},
   "outputs": [
    {
     "name": "stdout",
     "output_type": "stream",
     "text": [
      "[{'Item': [], 'Id': '33979328', 'PubDate': '2021 May', 'EPubDate': '2021 May 12', 'Source': 'PLoS Biol', 'AuthorList': ['Mori H', 'Dugan CE', 'Nishii A', 'Benchamana A', 'Li Z', 'Cadenhead TS 4th', 'Das AK', 'Evans CR', 'Overmyer KA', 'Romanelli SM', 'Peterson SK', 'Bagchi DP', 'Corsa CA', 'Hardij J', 'Learman BS', 'El Azzouny M', 'Coon JJ', 'Inoki K', 'MacDougald OA'], 'LastAuthor': 'MacDougald OA', 'Title': 'The molecular and metabolic program by which white adipocytes adapt to cool physiologic temperatures.', 'Volume': '19', 'Issue': '5', 'Pages': 'e3000988', 'LangList': ['English'], 'NlmUniqueID': '101183755', 'ISSN': '1544-9173', 'ESSN': '1545-7885', 'PubTypeList': ['Journal Article'], 'RecordStatus': 'PubMed - indexed for MEDLINE', 'PubStatus': '', 'ArticleIds': {'pubmed': ['33979328'], 'medline': [], 'pmc': 'PMC8143427', 'pmcid': 'pmc-id: PMC8143427;', 'doi': '10.1371/journal.pbio.3000988', 'pii': 'PBIOLOGY-D-20-02934'}, 'DOI': '10.1371/journal.pbio.3000988', 'History': {'pubmed': ['2021/05/13 06:00'], 'medline': ['2021/09/08 06:00'], 'received': '2020/10/02 00:00', 'accepted': '2021/04/14 00:00', 'revised': '2021/05/24 00:00', 'entrez': '2021/05/12 17:17'}, 'References': [], 'HasAbstract': IntegerElement(1, attributes={}), 'PmcRefCount': IntegerElement(46, attributes={}), 'FullJournalName': 'PLoS biology', 'ELocationID': 'doi: 10.1371/journal.pbio.3000988', 'SO': '2021 May;19(5):e3000988'}]\n"
     ]
    }
   ],
   "source": [
    "handle = Entrez.esummary(db=\"pubmed\", term=\"adipocyte\", id='33979328')\n",
    "record = Entrez.read(handle)\n",
    "print(record)"
   ]
  },
  {
   "cell_type": "code",
   "execution_count": 29,
   "metadata": {},
   "outputs": [
    {
     "data": {
      "text/plain": [
       "'33979328'"
      ]
     },
     "execution_count": 29,
     "metadata": {},
     "output_type": "execute_result"
    }
   ],
   "source": [
    "record[0]['Id']"
   ]
  },
  {
   "cell_type": "code",
   "execution_count": 40,
   "metadata": {},
   "outputs": [
    {
     "name": "stderr",
     "output_type": "stream",
     "text": [
      "05-Jul-2023 17:56:28 DEBUG utils - Directory ./ already exists. Skipping.\n",
      "05-Jul-2023 17:56:28 INFO GEOparse - Downloading ftp://ftp.ncbi.nlm.nih.gov/geo/series/GSE84nnn/GSE84422/soft/GSE84422_family.soft.gz to ./GSE84422_family.soft.gz\n",
      "  7%|▋         | 24.9M/366M [00:08<01:50, 3.25MB/s]  \n"
     ]
    },
    {
     "ename": "KeyboardInterrupt",
     "evalue": "",
     "output_type": "error",
     "traceback": [
      "\u001b[1;31m---------------------------------------------------------------------------\u001b[0m",
      "\u001b[1;31mKeyboardInterrupt\u001b[0m                         Traceback (most recent call last)",
      "Cell \u001b[1;32mIn[40], line 1\u001b[0m\n\u001b[1;32m----> 1\u001b[0m gse \u001b[39m=\u001b[39m gp\u001b[39m.\u001b[39;49mget_GEO(geo\u001b[39m=\u001b[39;49m\u001b[39m\"\u001b[39;49m\u001b[39mGSE84422\u001b[39;49m\u001b[39m\"\u001b[39;49m, destdir\u001b[39m=\u001b[39;49m\u001b[39m\"\u001b[39;49m\u001b[39m./\u001b[39;49m\u001b[39m\"\u001b[39;49m)\n",
      "File \u001b[1;32m~\\AppData\\Roaming\\Python\\Python39\\site-packages\\GEOparse\\GEOparse.py:96\u001b[0m, in \u001b[0;36mget_GEO\u001b[1;34m(geo, filepath, destdir, how, annotate_gpl, geotype, include_data, silent, aspera, partial, open_kwargs)\u001b[0m\n\u001b[0;32m     93\u001b[0m     logger\u001b[39m.\u001b[39msetLevel(\u001b[39m100\u001b[39m)  \u001b[39m# More than critical\u001b[39;00m\n\u001b[0;32m     95\u001b[0m \u001b[39mif\u001b[39;00m filepath \u001b[39mis\u001b[39;00m \u001b[39mNone\u001b[39;00m:\n\u001b[1;32m---> 96\u001b[0m     filepath, geotype \u001b[39m=\u001b[39m get_GEO_file(\n\u001b[0;32m     97\u001b[0m         geo,\n\u001b[0;32m     98\u001b[0m         destdir\u001b[39m=\u001b[39;49mdestdir,\n\u001b[0;32m     99\u001b[0m         how\u001b[39m=\u001b[39;49mhow,\n\u001b[0;32m    100\u001b[0m         annotate_gpl\u001b[39m=\u001b[39;49mannotate_gpl,\n\u001b[0;32m    101\u001b[0m         include_data\u001b[39m=\u001b[39;49minclude_data,\n\u001b[0;32m    102\u001b[0m         silent\u001b[39m=\u001b[39;49msilent,\n\u001b[0;32m    103\u001b[0m         aspera\u001b[39m=\u001b[39;49maspera,\n\u001b[0;32m    104\u001b[0m     )\n\u001b[0;32m    105\u001b[0m \u001b[39melse\u001b[39;00m:\n\u001b[0;32m    106\u001b[0m     \u001b[39mif\u001b[39;00m geotype \u001b[39mis\u001b[39;00m \u001b[39mNone\u001b[39;00m:\n",
      "File \u001b[1;32m~\\AppData\\Roaming\\Python\\Python39\\site-packages\\GEOparse\\GEOparse.py:263\u001b[0m, in \u001b[0;36mget_GEO_file\u001b[1;34m(geo, destdir, annotate_gpl, how, include_data, silent, aspera)\u001b[0m\n\u001b[0;32m    261\u001b[0m \u001b[39mif\u001b[39;00m \u001b[39mnot\u001b[39;00m path\u001b[39m.\u001b[39misfile(filepath):\n\u001b[0;32m    262\u001b[0m     logger\u001b[39m.\u001b[39minfo(\u001b[39m\"\u001b[39m\u001b[39mDownloading \u001b[39m\u001b[39m%s\u001b[39;00m\u001b[39m to \u001b[39m\u001b[39m%s\u001b[39;00m\u001b[39m\"\u001b[39m \u001b[39m%\u001b[39m (url, filepath))\n\u001b[1;32m--> 263\u001b[0m     utils\u001b[39m.\u001b[39;49mdownload_from_url(url, filepath, silent\u001b[39m=\u001b[39;49msilent, aspera\u001b[39m=\u001b[39;49maspera)\n\u001b[0;32m    264\u001b[0m \u001b[39melse\u001b[39;00m:\n\u001b[0;32m    265\u001b[0m     logger\u001b[39m.\u001b[39minfo(\u001b[39m\"\u001b[39m\u001b[39mFile already exist: using local version.\u001b[39m\u001b[39m\"\u001b[39m)\n",
      "File \u001b[1;32m~\\AppData\\Roaming\\Python\\Python39\\site-packages\\GEOparse\\utils.py:80\u001b[0m, in \u001b[0;36mdownload_from_url\u001b[1;34m(url, destination_path, force, aspera, silent)\u001b[0m\n\u001b[0;32m     76\u001b[0m         fn\u001b[39m.\u001b[39mdownload_aspera(\n\u001b[0;32m     77\u001b[0m             user\u001b[39m=\u001b[39m\u001b[39m\"\u001b[39m\u001b[39manonftp\u001b[39m\u001b[39m\"\u001b[39m, host\u001b[39m=\u001b[39m\u001b[39m\"\u001b[39m\u001b[39mftp-trace.ncbi.nlm.nih.gov\u001b[39m\u001b[39m\"\u001b[39m, silent\u001b[39m=\u001b[39msilent\n\u001b[0;32m     78\u001b[0m         )\n\u001b[0;32m     79\u001b[0m     \u001b[39melse\u001b[39;00m:\n\u001b[1;32m---> 80\u001b[0m         fn\u001b[39m.\u001b[39;49mdownload(silent\u001b[39m=\u001b[39;49msilent, force\u001b[39m=\u001b[39;49mforce)\n\u001b[0;32m     81\u001b[0m \u001b[39mexcept\u001b[39;00m \u001b[39mException\u001b[39;00m \u001b[39mas\u001b[39;00m err:\n\u001b[0;32m     82\u001b[0m     \u001b[39mraise\u001b[39;00m \u001b[39mIOError\u001b[39;00m(\n\u001b[0;32m     83\u001b[0m         \u001b[39m\"\u001b[39m\u001b[39mDownload failed due to \u001b[39m\u001b[39m'\u001b[39m\u001b[39m%s\u001b[39;00m\u001b[39m'\u001b[39m\u001b[39m. ID could be incorrect or the \u001b[39m\u001b[39m\"\u001b[39m \u001b[39m%\u001b[39m err\n\u001b[0;32m     84\u001b[0m         \u001b[39m+\u001b[39m \u001b[39m\"\u001b[39m\u001b[39mdata might not be public yet.\u001b[39m\u001b[39m\"\u001b[39m\n\u001b[0;32m     85\u001b[0m     )\n",
      "File \u001b[1;32m~\\AppData\\Roaming\\Python\\Python39\\site-packages\\GEOparse\\downloader.py:82\u001b[0m, in \u001b[0;36mDownloader.download\u001b[1;34m(self, force, silent)\u001b[0m\n\u001b[0;32m     74\u001b[0m             logger\u001b[39m.\u001b[39minfo(\n\u001b[0;32m     75\u001b[0m                 (\n\u001b[0;32m     76\u001b[0m                     \u001b[39m\"\u001b[39m\u001b[39mFile \u001b[39m\u001b[39m%s\u001b[39;00m\u001b[39m already exist. Use force=True if you\u001b[39m\u001b[39m\"\u001b[39m\n\u001b[1;32m   (...)\u001b[0m\n\u001b[0;32m     79\u001b[0m                 \u001b[39m%\u001b[39m \u001b[39mself\u001b[39m\u001b[39m.\u001b[39mdestination\n\u001b[0;32m     80\u001b[0m             )\n\u001b[0;32m     81\u001b[0m     \u001b[39melse\u001b[39;00m:\n\u001b[1;32m---> 82\u001b[0m         _download()\n\u001b[0;32m     83\u001b[0m \u001b[39mfinally\u001b[39;00m:\n\u001b[0;32m     84\u001b[0m     \u001b[39mtry\u001b[39;00m:\n",
      "File \u001b[1;32m~\\AppData\\Roaming\\Python\\Python39\\site-packages\\GEOparse\\downloader.py:53\u001b[0m, in \u001b[0;36mDownloader.download.<locals>._download\u001b[1;34m()\u001b[0m\n\u001b[0;32m     51\u001b[0m     \u001b[39mself\u001b[39m\u001b[39m.\u001b[39m_download_http(silent\u001b[39m=\u001b[39msilent)\n\u001b[0;32m     52\u001b[0m \u001b[39melif\u001b[39;00m \u001b[39mself\u001b[39m\u001b[39m.\u001b[39murl\u001b[39m.\u001b[39mstartswith(\u001b[39m\"\u001b[39m\u001b[39mftp\u001b[39m\u001b[39m\"\u001b[39m):\n\u001b[1;32m---> 53\u001b[0m     \u001b[39mself\u001b[39;49m\u001b[39m.\u001b[39;49m_download_ftp(silent\u001b[39m=\u001b[39;49msilent)\n\u001b[0;32m     54\u001b[0m \u001b[39melse\u001b[39;00m:\n\u001b[0;32m     55\u001b[0m     \u001b[39mraise\u001b[39;00m \u001b[39mValueError\u001b[39;00m(\u001b[39m\"\u001b[39m\u001b[39mInvalid URL \u001b[39m\u001b[39m%s\u001b[39;00m\u001b[39m\"\u001b[39m \u001b[39m%\u001b[39m \u001b[39mself\u001b[39m\u001b[39m.\u001b[39murl)\n",
      "File \u001b[1;32m~\\AppData\\Roaming\\Python\\Python39\\site-packages\\GEOparse\\downloader.py:176\u001b[0m, in \u001b[0;36mDownloader._download_ftp\u001b[1;34m(self, silent)\u001b[0m\n\u001b[0;32m    173\u001b[0m                     f\u001b[39m.\u001b[39mwrite(data)\n\u001b[0;32m    174\u001b[0m                     wrote\u001b[39m.\u001b[39mappend(data_length)\n\u001b[1;32m--> 176\u001b[0m                 ftp\u001b[39m.\u001b[39;49mretrbinary(\u001b[39m\"\u001b[39;49m\u001b[39mRETR \u001b[39;49m\u001b[39m%s\u001b[39;49;00m\u001b[39m\"\u001b[39;49m \u001b[39m%\u001b[39;49m parsed_url\u001b[39m.\u001b[39;49mpath, _write)\n\u001b[0;32m    177\u001b[0m     ftp\u001b[39m.\u001b[39mquit()\n\u001b[0;32m    178\u001b[0m \u001b[39mexcept\u001b[39;00m \u001b[39mException\u001b[39;00m:\n",
      "File \u001b[1;32mc:\\Program Files (x86)\\Microsoft Visual Studio\\Shared\\Python39_64\\lib\\ftplib.py:438\u001b[0m, in \u001b[0;36mFTP.retrbinary\u001b[1;34m(self, cmd, callback, blocksize, rest)\u001b[0m\n\u001b[0;32m    436\u001b[0m \u001b[39mwith\u001b[39;00m \u001b[39mself\u001b[39m\u001b[39m.\u001b[39mtransfercmd(cmd, rest) \u001b[39mas\u001b[39;00m conn:\n\u001b[0;32m    437\u001b[0m     \u001b[39mwhile\u001b[39;00m \u001b[39m1\u001b[39m:\n\u001b[1;32m--> 438\u001b[0m         data \u001b[39m=\u001b[39m conn\u001b[39m.\u001b[39;49mrecv(blocksize)\n\u001b[0;32m    439\u001b[0m         \u001b[39mif\u001b[39;00m \u001b[39mnot\u001b[39;00m data:\n\u001b[0;32m    440\u001b[0m             \u001b[39mbreak\u001b[39;00m\n",
      "\u001b[1;31mKeyboardInterrupt\u001b[0m: "
     ]
    }
   ],
   "source": [
    "gse = gp.get_GEO(geo=\"GSE84422\", destdir=\"./\")"
   ]
  },
  {
   "cell_type": "code",
   "execution_count": 44,
   "metadata": {},
   "outputs": [
    {
     "name": "stderr",
     "output_type": "stream",
     "text": [
      "05-Jul-2023 18:11:24 DEBUG utils - Directory ./ already exists. Skipping.\n",
      "05-Jul-2023 18:11:24 INFO GEOparse - Downloading ftp://ftp.ncbi.nlm.nih.gov/geo/series/GSE159nnn/GSE159451/soft/GSE159451_family.soft.gz to ./GSE159451_family.soft.gz\n",
      "100%|██████████| 3.34k/3.34k [00:00<00:00, 10.5kB/s]\n",
      "05-Jul-2023 18:11:25 DEBUG downloader - Size validation passed\n",
      "05-Jul-2023 18:11:25 DEBUG downloader - Moving C:\\Users\\derek\\AppData\\Local\\Temp\\tmp2b_xrjya to c:\\Users\\derek\\cs_projects\\bioML\\bioIDE\\db_wrapper\\GSE159451_family.soft.gz\n",
      "05-Jul-2023 18:11:25 DEBUG downloader - Successfully downloaded ftp://ftp.ncbi.nlm.nih.gov/geo/series/GSE159nnn/GSE159451/soft/GSE159451_family.soft.gz\n",
      "05-Jul-2023 18:11:25 INFO GEOparse - Parsing ./GSE159451_family.soft.gz: \n",
      "05-Jul-2023 18:11:25 DEBUG GEOparse - DATABASE: GeoMiame\n",
      "05-Jul-2023 18:11:25 DEBUG GEOparse - SERIES: GSE159451\n",
      "05-Jul-2023 18:11:25 DEBUG GEOparse - PLATFORM: GPL21103\n",
      "05-Jul-2023 18:11:25 DEBUG GEOparse - SAMPLE: GSM4830002\n",
      "05-Jul-2023 18:11:25 DEBUG GEOparse - SAMPLE: GSM4830003\n",
      "05-Jul-2023 18:11:25 DEBUG GEOparse - SAMPLE: GSM4830004\n",
      "05-Jul-2023 18:11:25 DEBUG GEOparse - SAMPLE: GSM4830005\n",
      "05-Jul-2023 18:11:25 DEBUG GEOparse - SAMPLE: GSM4830006\n",
      "05-Jul-2023 18:11:25 DEBUG GEOparse - SAMPLE: GSM4830007\n",
      "05-Jul-2023 18:11:25 DEBUG GEOparse - SAMPLE: GSM4830008\n",
      "05-Jul-2023 18:11:25 DEBUG GEOparse - SAMPLE: GSM4830009\n",
      "05-Jul-2023 18:11:25 DEBUG GEOparse - SAMPLE: GSM4830010\n",
      "05-Jul-2023 18:11:25 DEBUG GEOparse - SAMPLE: GSM4830011\n",
      "05-Jul-2023 18:11:25 DEBUG GEOparse - SAMPLE: GSM4830012\n",
      "05-Jul-2023 18:11:25 DEBUG GEOparse - SAMPLE: GSM4830013\n",
      "05-Jul-2023 18:11:25 DEBUG GEOparse - SAMPLE: GSM4830014\n",
      "05-Jul-2023 18:11:25 DEBUG GEOparse - SAMPLE: GSM4830015\n",
      "05-Jul-2023 18:11:25 DEBUG GEOparse - SAMPLE: GSM4830016\n"
     ]
    }
   ],
   "source": [
    "gse = gp.get_GEO(geo=\"GSE159451\", destdir=\"./\")\n",
    "\n",
    "# download the GSE159451 dataset into the current directory\n",
    "# the dataset will be saved as a .soft.gz file\n",
    "\n",
    "# -- this method has been deprecated -\n"
   ]
  },
  {
   "cell_type": "code",
   "execution_count": 49,
   "metadata": {},
   "outputs": [
    {
     "ename": "error_perm",
     "evalue": "550 geo/suppl/GSE159nnn/GSE159451/suppl/: No such file or directory",
     "output_type": "error",
     "traceback": [
      "\u001b[1;31m---------------------------------------------------------------------------\u001b[0m",
      "\u001b[1;31merror_perm\u001b[0m                                Traceback (most recent call last)",
      "Cell \u001b[1;32mIn[49], line 5\u001b[0m\n\u001b[0;32m      3\u001b[0m ftp \u001b[39m=\u001b[39m FTP(\u001b[39m'\u001b[39m\u001b[39mftp.ncbi.nlm.nih.gov\u001b[39m\u001b[39m'\u001b[39m) \n\u001b[0;32m      4\u001b[0m ftp\u001b[39m.\u001b[39mlogin()                       \n\u001b[1;32m----> 5\u001b[0m ftp\u001b[39m.\u001b[39;49mcwd(\u001b[39m'\u001b[39;49m\u001b[39mgeo/suppl/GSE159nnn/GSE159451/suppl/\u001b[39;49m\u001b[39m'\u001b[39;49m)  \u001b[39m# change into \"GSE159451/matrix/\" directory\u001b[39;00m\n\u001b[0;32m      7\u001b[0m filename \u001b[39m=\u001b[39m \u001b[39m'\u001b[39m\u001b[39mGSE159451_DESeq2_zero_v_one.txt.gz\u001b[39m\u001b[39m'\u001b[39m  \n\u001b[0;32m      9\u001b[0m \u001b[39mwith\u001b[39;00m \u001b[39mopen\u001b[39m(filename, \u001b[39m'\u001b[39m\u001b[39mwb\u001b[39m\u001b[39m'\u001b[39m) \u001b[39mas\u001b[39;00m fp:\n",
      "File \u001b[1;32mc:\\Program Files (x86)\\Microsoft Visual Studio\\Shared\\Python39_64\\lib\\ftplib.py:625\u001b[0m, in \u001b[0;36mFTP.cwd\u001b[1;34m(self, dirname)\u001b[0m\n\u001b[0;32m    623\u001b[0m     dirname \u001b[39m=\u001b[39m \u001b[39m'\u001b[39m\u001b[39m.\u001b[39m\u001b[39m'\u001b[39m  \u001b[39m# does nothing, but could return error\u001b[39;00m\n\u001b[0;32m    624\u001b[0m cmd \u001b[39m=\u001b[39m \u001b[39m'\u001b[39m\u001b[39mCWD \u001b[39m\u001b[39m'\u001b[39m \u001b[39m+\u001b[39m dirname\n\u001b[1;32m--> 625\u001b[0m \u001b[39mreturn\u001b[39;00m \u001b[39mself\u001b[39;49m\u001b[39m.\u001b[39;49mvoidcmd(cmd)\n",
      "File \u001b[1;32mc:\\Program Files (x86)\\Microsoft Visual Studio\\Shared\\Python39_64\\lib\\ftplib.py:286\u001b[0m, in \u001b[0;36mFTP.voidcmd\u001b[1;34m(self, cmd)\u001b[0m\n\u001b[0;32m    284\u001b[0m \u001b[39m\u001b[39m\u001b[39m\"\"\"Send a command and expect a response beginning with '2'.\"\"\"\u001b[39;00m\n\u001b[0;32m    285\u001b[0m \u001b[39mself\u001b[39m\u001b[39m.\u001b[39mputcmd(cmd)\n\u001b[1;32m--> 286\u001b[0m \u001b[39mreturn\u001b[39;00m \u001b[39mself\u001b[39;49m\u001b[39m.\u001b[39;49mvoidresp()\n",
      "File \u001b[1;32mc:\\Program Files (x86)\\Microsoft Visual Studio\\Shared\\Python39_64\\lib\\ftplib.py:259\u001b[0m, in \u001b[0;36mFTP.voidresp\u001b[1;34m(self)\u001b[0m\n\u001b[0;32m    257\u001b[0m \u001b[39mdef\u001b[39;00m \u001b[39mvoidresp\u001b[39m(\u001b[39mself\u001b[39m):\n\u001b[0;32m    258\u001b[0m \u001b[39m    \u001b[39m\u001b[39m\"\"\"Expect a response beginning with '2'.\"\"\"\u001b[39;00m\n\u001b[1;32m--> 259\u001b[0m     resp \u001b[39m=\u001b[39m \u001b[39mself\u001b[39;49m\u001b[39m.\u001b[39;49mgetresp()\n\u001b[0;32m    260\u001b[0m     \u001b[39mif\u001b[39;00m resp[:\u001b[39m1\u001b[39m] \u001b[39m!=\u001b[39m \u001b[39m'\u001b[39m\u001b[39m2\u001b[39m\u001b[39m'\u001b[39m:\n\u001b[0;32m    261\u001b[0m         \u001b[39mraise\u001b[39;00m error_reply(resp)\n",
      "File \u001b[1;32mc:\\Program Files (x86)\\Microsoft Visual Studio\\Shared\\Python39_64\\lib\\ftplib.py:254\u001b[0m, in \u001b[0;36mFTP.getresp\u001b[1;34m(self)\u001b[0m\n\u001b[0;32m    252\u001b[0m     \u001b[39mraise\u001b[39;00m error_temp(resp)\n\u001b[0;32m    253\u001b[0m \u001b[39mif\u001b[39;00m c \u001b[39m==\u001b[39m \u001b[39m'\u001b[39m\u001b[39m5\u001b[39m\u001b[39m'\u001b[39m:\n\u001b[1;32m--> 254\u001b[0m     \u001b[39mraise\u001b[39;00m error_perm(resp)\n\u001b[0;32m    255\u001b[0m \u001b[39mraise\u001b[39;00m error_proto(resp)\n",
      "\u001b[1;31merror_perm\u001b[0m: 550 geo/suppl/GSE159nnn/GSE159451/suppl/: No such file or directory"
     ]
    }
   ],
   "source": [
    "from ftplib import FTP\n",
    "\n",
    "ftp = FTP('ftp.ncbi.nlm.nih.gov') \n",
    "ftp.login()                       \n",
    "ftp.cwd('geo/suppl/GSE159nnn/GSE159451/suppl/')  # change into \"GSE159451/matrix/\" directory\n",
    "\n",
    "filename = 'GSE159451_DESeq2_zero_v_one.txt.gz'  \n",
    "\n",
    "with open(filename, 'wb') as fp:\n",
    "    ftp.retrbinary('RETR ' + filename, fp.write)\n",
    "\n",
    "ftp.quit()\n"
   ]
  },
  {
   "cell_type": "code",
   "execution_count": 1,
   "metadata": {},
   "outputs": [],
   "source": [
    "from ftplib import FTP\n",
    "\n",
    "ftp = FTP('ftp.ncbi.nlm.nih.gov')\n",
    "ftp.login() \n",
    "\n",
    "\n",
    "ftp.cwd('/geo/series/GSE159nnn/GSE159451/suppl/')\n",
    "\n",
    "filename = 'GSE159451_DESeq2_zero_v_one.txt.gz'\n",
    "\n",
    "with open(filename, 'wb') as f:\n",
    "    ftp.retrbinary('RETR ' + filename, f.write)\n",
    "\n",
    "\n"
   ]
  },
  {
   "cell_type": "code",
   "execution_count": 55,
   "metadata": {},
   "outputs": [
    {
     "name": "stdout",
     "output_type": "stream",
     "text": [
      "['GSE159451_DESeq2_zero_v_one.txt.gz', 'GSE159451_DESeq2_zero_v_twelve.txt.gz', 'GSE159451_raw_counts.txt.gz', 'GSE159451_rlog_normalized_counts_1_.txt.gz']\n"
     ]
    }
   ],
   "source": [
    "print(ftp.nlst())"
   ]
  },
  {
   "cell_type": "code",
   "execution_count": 2,
   "metadata": {},
   "outputs": [
    {
     "data": {
      "text/plain": [
       "'221 Goodbye.'"
      ]
     },
     "execution_count": 2,
     "metadata": {},
     "output_type": "execute_result"
    }
   ],
   "source": [
    "from ftplib import FTP\n",
    "\n",
    "ftp = FTP('ftp.ncbi.nlm.nih.gov')\n",
    "ftp.login() \n",
    "\n",
    "\n",
    "ftp.cwd('/geo/series/GSE159nnn/GSE159451/suppl/')\n",
    "\n",
    "filenames = ftp.nlst()\n",
    "\n",
    "for filename in filenames:\n",
    "    with open(filename, 'wb') as f:\n",
    "        ftp.retrbinary('RETR ' + filename, f.write)\n",
    "\n",
    "ftp.quit()"
   ]
  },
  {
   "cell_type": "code",
   "execution_count": 32,
   "metadata": {},
   "outputs": [
    {
     "name": "stdout",
     "output_type": "stream",
     "text": [
      "Empty DataFrame\n",
      "Columns: [ID_REF, GSM4830002, GSM4830003, GSM4830004, GSM4830005, GSM4830006, GSM4830007, GSM4830008, GSM4830009, GSM4830010, GSM4830011, GSM4830012, GSM4830013, GSM4830014, GSM4830015, GSM4830016]\n",
      "Index: []\n"
     ]
    }
   ],
   "source": [
    "import gzip\n",
    "import io\n",
    "\n",
    "def read_geo_file(filename):\n",
    "    with gzip.open(filename, 'rt') as f:  # 'rt'-- open in text mode\n",
    "        lines = []\n",
    "        start_reading = False\n",
    "        for line in f:\n",
    "            if line.strip() == \"!series_matrix_table_begin\":\n",
    "                start_reading = True\n",
    "            elif line.strip() == \"!series_matrix_table_end\":\n",
    "                start_reading = False\n",
    "            elif start_reading:\n",
    "                lines.append(line)\n",
    "    return pd.read_csv(io.StringIO(\"\".join(lines)), sep=\"\\t\")\n",
    "\n",
    "filename = 'GSE159451_series_matrix.txt.gz'  \n",
    "data = read_geo_file(filename)\n",
    "\n",
    "print(data)\n"
   ]
  },
  {
   "cell_type": "code",
   "execution_count": 33,
   "metadata": {},
   "outputs": [
    {
     "name": "stdout",
     "output_type": "stream",
     "text": [
      "Empty DataFrame\n",
      "Columns: [ID_REF, GSM4830002, GSM4830003, GSM4830004, GSM4830005, GSM4830006, GSM4830007, GSM4830008, GSM4830009, GSM4830010, GSM4830011, GSM4830012, GSM4830013, GSM4830014, GSM4830015, GSM4830016]\n",
      "Index: []\n"
     ]
    }
   ],
   "source": [
    "print(data.head())"
   ]
  },
  {
   "cell_type": "code",
   "execution_count": 34,
   "metadata": {},
   "outputs": [
    {
     "data": {
      "text/html": [
       "<div>\n",
       "<style scoped>\n",
       "    .dataframe tbody tr th:only-of-type {\n",
       "        vertical-align: middle;\n",
       "    }\n",
       "\n",
       "    .dataframe tbody tr th {\n",
       "        vertical-align: top;\n",
       "    }\n",
       "\n",
       "    .dataframe thead th {\n",
       "        text-align: right;\n",
       "    }\n",
       "</style>\n",
       "<table border=\"1\" class=\"dataframe\">\n",
       "  <thead>\n",
       "    <tr style=\"text-align: right;\">\n",
       "      <th></th>\n",
       "      <th>ID_REF</th>\n",
       "      <th>GSM4830002</th>\n",
       "      <th>GSM4830003</th>\n",
       "      <th>GSM4830004</th>\n",
       "      <th>GSM4830005</th>\n",
       "      <th>GSM4830006</th>\n",
       "      <th>GSM4830007</th>\n",
       "      <th>GSM4830008</th>\n",
       "      <th>GSM4830009</th>\n",
       "      <th>GSM4830010</th>\n",
       "      <th>GSM4830011</th>\n",
       "      <th>GSM4830012</th>\n",
       "      <th>GSM4830013</th>\n",
       "      <th>GSM4830014</th>\n",
       "      <th>GSM4830015</th>\n",
       "      <th>GSM4830016</th>\n",
       "    </tr>\n",
       "  </thead>\n",
       "  <tbody>\n",
       "  </tbody>\n",
       "</table>\n",
       "</div>"
      ],
      "text/plain": [
       "Empty DataFrame\n",
       "Columns: [ID_REF, GSM4830002, GSM4830003, GSM4830004, GSM4830005, GSM4830006, GSM4830007, GSM4830008, GSM4830009, GSM4830010, GSM4830011, GSM4830012, GSM4830013, GSM4830014, GSM4830015, GSM4830016]\n",
       "Index: []"
      ]
     },
     "execution_count": 34,
     "metadata": {},
     "output_type": "execute_result"
    }
   ],
   "source": [
    "data.head(10)"
   ]
  },
  {
   "cell_type": "code",
   "execution_count": 42,
   "metadata": {},
   "outputs": [
    {
     "name": "stdout",
     "output_type": "stream",
     "text": [
      "\n",
      "1.  Error occurred: cannot get document summary\n",
      "Accession: \tID: 33979328\n",
      "\n"
     ]
    }
   ],
   "source": [
    "handle = Entrez.efetch(db=\"gds\", id=\"33979328\", rettype=\"gb\", retmode=\"text\")\n",
    "# record = SeqIO.read(handle, \"genbank\")\n",
    "# handle.close()\n",
    "print(handle.read())"
   ]
  },
  {
   "cell_type": "code",
   "execution_count": 36,
   "metadata": {},
   "outputs": [
    {
     "name": "stdout",
     "output_type": "stream",
     "text": [
      "LOCUS       EU490707                1302 bp    DNA     linear   PLN 26-JUL-2016\n",
      "DEFINITION  Selenipedium aequinoctiale maturase K (matK) gene, partial cds;\n",
      "            chloroplast.\n",
      "ACCESSION   EU490707\n",
      "VERSION     EU490707.1\n",
      "KEYWORDS    .\n",
      "SOURCE      chloroplast Selenipedium aequinoctiale\n",
      "  ORGANISM  Selenipedium aequinoctiale\n",
      "            Eukaryota; Viridiplantae; Streptophyta; Embryophyta; Tracheophyta;\n",
      "            Spermatophyta; Magnoliopsida; Liliopsida; Asparagales; Orchidaceae;\n",
      "            Cypripedioideae; Selenipedium.\n",
      "REFERENCE   1  (bases 1 to 1302)\n",
      "  AUTHORS   Neubig,K.M., Whitten,W.M., Carlsward,B.S., Blanco,M.A., Endara,L.,\n",
      "            Williams,N.H. and Moore,M.\n",
      "  TITLE     Phylogenetic utility of ycf1 in orchids: a plastid gene more\n",
      "            variable than matK\n",
      "  JOURNAL   Plant Syst. Evol. 277 (1-2), 75-84 (2009)\n",
      "REFERENCE   2  (bases 1 to 1302)\n",
      "  AUTHORS   Neubig,K.M., Whitten,W.M., Carlsward,B.S., Blanco,M.A.,\n",
      "            Endara,C.L., Williams,N.H. and Moore,M.J.\n",
      "  TITLE     Direct Submission\n",
      "  JOURNAL   Submitted (14-FEB-2008) Department of Botany, University of\n",
      "            Florida, 220 Bartram Hall, Gainesville, FL 32611-8526, USA\n",
      "FEATURES             Location/Qualifiers\n",
      "     source          1..1302\n",
      "                     /organism=\"Selenipedium aequinoctiale\"\n",
      "                     /organelle=\"plastid:chloroplast\"\n",
      "                     /mol_type=\"genomic DNA\"\n",
      "                     /specimen_voucher=\"FLAS:Blanco 2475\"\n",
      "                     /db_xref=\"taxon:256374\"\n",
      "     gene            <1..>1302\n",
      "                     /gene=\"matK\"\n",
      "     CDS             <1..>1302\n",
      "                     /gene=\"matK\"\n",
      "                     /codon_start=1\n",
      "                     /transl_table=11\n",
      "                     /product=\"maturase K\"\n",
      "                     /protein_id=\"ACC99456.1\"\n",
      "                     /translation=\"IFYEPVEIFGYDNKSSLVLVKRLITRMYQQNFLISSVNDSNQKG\n",
      "                     FWGHKHFFSSHFSSQMVSEGFGVILEIPFSSQLVSSLEEKKIPKYQNLRSIHSIFPFL\n",
      "                     EDKFLHLNYVSDLLIPHPIHLEILVQILQCRIKDVPSLHLLRLLFHEYHNLNSLITSK\n",
      "                     KFIYAFSKRKKRFLWLLYNSYVYECEYLFQFLRKQSSYLRSTSSGVFLERTHLYVKIE\n",
      "                     HLLVVCCNSFQRILCFLKDPFMHYVRYQGKAILASKGTLILMKKWKFHLVNFWQSYFH\n",
      "                     FWSQPYRIHIKQLSNYSFSFLGYFSSVLENHLVVRNQMLENSFIINLLTKKFDTIAPV\n",
      "                     ISLIGSLSKAQFCTVLGHPISKPIWTDFSDSDILDRFCRICRNLCRYHSGSSKKQVLY\n",
      "                     RIKYILRLSCARTLARKHKSTVRTFMRRLGSGLLEEFFMEEE\"\n",
      "ORIGIN      \n",
      "        1 attttttacg aacctgtgga aatttttggt tatgacaata aatctagttt agtacttgtg\n",
      "       61 aaacgtttaa ttactcgaat gtatcaacag aattttttga tttcttcggt taatgattct\n",
      "      121 aaccaaaaag gattttgggg gcacaagcat tttttttctt ctcatttttc ttctcaaatg\n",
      "      181 gtatcagaag gttttggagt cattctggaa attccattct cgtcgcaatt agtatcttct\n",
      "      241 cttgaagaaa aaaaaatacc aaaatatcag aatttacgat ctattcattc aatatttccc\n",
      "      301 tttttagaag acaaattttt acatttgaat tatgtgtcag atctactaat accccatccc\n",
      "      361 atccatctgg aaatcttggt tcaaatcctt caatgccgga tcaaggatgt tccttctttg\n",
      "      421 catttattgc gattgctttt ccacgaatat cataatttga atagtctcat tacttcaaag\n",
      "      481 aaattcattt acgccttttc aaaaagaaag aaaagattcc tttggttact atataattct\n",
      "      541 tatgtatatg aatgcgaata tctattccag tttcttcgta aacagtcttc ttatttacga\n",
      "      601 tcaacatctt ctggagtctt tcttgagcga acacatttat atgtaaaaat agaacatctt\n",
      "      661 ctagtagtgt gttgtaattc ttttcagagg atcctatgct ttctcaagga tcctttcatg\n",
      "      721 cattatgttc gatatcaagg aaaagcaatt ctggcttcaa agggaactct tattctgatg\n",
      "      781 aagaaatgga aatttcatct tgtgaatttt tggcaatctt attttcactt ttggtctcaa\n",
      "      841 ccgtatagga ttcatataaa gcaattatcc aactattcct tctcttttct ggggtatttt\n",
      "      901 tcaagtgtac tagaaaatca tttggtagta agaaatcaaa tgctagagaa ttcatttata\n",
      "      961 ataaatcttc tgactaagaa attcgatacc atagccccag ttatttctct tattggatca\n",
      "     1021 ttgtcgaaag ctcaattttg tactgtattg ggtcatccta ttagtaaacc gatctggacc\n",
      "     1081 gatttctcgg attctgatat tcttgatcga ttttgccgga tatgtagaaa tctttgtcgt\n",
      "     1141 tatcacagcg gatcctcaaa aaaacaggtt ttgtatcgta taaaatatat acttcgactt\n",
      "     1201 tcgtgtgcta gaactttggc acggaaacat aaaagtacag tacgcacttt tatgcgaaga\n",
      "     1261 ttaggttcgg gattattaga agaattcttt atggaagaag aa\n",
      "//\n",
      "\n",
      "\n"
     ]
    }
   ],
   "source": [
    "# this is downloading it in GenBank format\n",
    "\n",
    "handle = Entrez.efetch(db=\"nucleotide\", id=\"186972394\", rettype=\"gb\", retmode=\"text\")\n",
    "print(handle.read())"
   ]
  },
  {
   "cell_type": "code",
   "execution_count": 37,
   "metadata": {},
   "outputs": [
    {
     "data": {
      "text/plain": [
       "'13363'"
      ]
     },
     "execution_count": 37,
     "metadata": {},
     "output_type": "execute_result"
    }
   ],
   "source": [
    "handle = Entrez.esearch(db='gds', term='adipocytes')\n",
    "record = Entrez.read(handle)\n",
    "record['Count']"
   ]
  },
  {
   "cell_type": "code",
   "execution_count": 39,
   "metadata": {},
   "outputs": [
    {
     "data": {
      "text/plain": [
       "['36818783', '36245797', '36094101', '35497637', '35496474', '35402671', '34735950', '34484417', '34434786', '34189012', '33994075', '33902722', '33809815', '33242467', '32044951', '31762715', '31278684', '31069053', '30013827', '29641230']"
      ]
     },
     "execution_count": 39,
     "metadata": {},
     "output_type": "execute_result"
    }
   ],
   "source": [
    "handle = Entrez.esearch(db=\"pubmed\", term=\"biopython\")\n",
    "record = Entrez.read(handle)\n",
    "record[\"IdList\"]"
   ]
  },
  {
   "attachments": {},
   "cell_type": "markdown",
   "metadata": {},
   "source": [
    "### ELink- find related items in the NCBI Entrez database"
   ]
  },
  {
   "cell_type": "code",
   "execution_count": null,
   "metadata": {},
   "outputs": [],
   "source": []
  }
 ],
 "metadata": {
  "kernelspec": {
   "display_name": "Python 3",
   "language": "python",
   "name": "python3"
  },
  "language_info": {
   "codemirror_mode": {
    "name": "ipython",
    "version": 3
   },
   "file_extension": ".py",
   "mimetype": "text/x-python",
   "name": "python",
   "nbconvert_exporter": "python",
   "pygments_lexer": "ipython3",
   "version": "3.9.13"
  },
  "orig_nbformat": 4
 },
 "nbformat": 4,
 "nbformat_minor": 2
}
